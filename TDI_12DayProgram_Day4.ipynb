{
 "cells": [
  {
   "cell_type": "markdown",
   "id": "53db1508",
   "metadata": {},
   "source": [
    "# 12 Day Program: Day 4\n",
    "Analyzing the Value of Energy Cost Saving Program for businesses in New York City "
   ]
  },
  {
   "cell_type": "markdown",
   "id": "d4cc5df9",
   "metadata": {},
   "source": [
    "## Importing the required modules"
   ]
  },
  {
   "cell_type": "code",
   "execution_count": 31,
   "id": "fa84bd6c",
   "metadata": {},
   "outputs": [],
   "source": [
    "import pandas as pd\n",
    "import numpy as np\n",
    "import matplotlib.pyplot as plt\n",
    "import seaborn as sns\n",
    "sns.set_style('darkgrid')\n",
    "%matplotlib inline"
   ]
  },
  {
   "cell_type": "markdown",
   "id": "76d66b23",
   "metadata": {},
   "source": [
    "## Uploading the data"
   ]
  },
  {
   "cell_type": "code",
   "execution_count": 2,
   "id": "77907422",
   "metadata": {},
   "outputs": [],
   "source": [
    "vecsp_data = pd.read_csv('Value_of_Energy_Cost_Savings_Program_Savings_for_Businesses_-_FY2020.csv')"
   ]
  },
  {
   "cell_type": "markdown",
   "id": "7c05164c",
   "metadata": {},
   "source": [
    "## Question 1: How many different companies are represented in the data set?"
   ]
  },
  {
   "cell_type": "code",
   "execution_count": 3,
   "id": "1d3d92f9",
   "metadata": {},
   "outputs": [
    {
     "name": "stdout",
     "output_type": "stream",
     "text": [
      "<class 'pandas.core.frame.DataFrame'>\n",
      "RangeIndex: 450 entries, 0 to 449\n",
      "Data columns (total 26 columns):\n",
      " #   Column                                     Non-Null Count  Dtype  \n",
      "---  ------                                     --------------  -----  \n",
      " 0   Company Name                               450 non-null    object \n",
      " 1   company contact                            450 non-null    object \n",
      " 2   company email                              433 non-null    object \n",
      " 3   company phone                              450 non-null    object \n",
      " 4   Address                                    450 non-null    object \n",
      " 5   City                                       450 non-null    object \n",
      " 6   State                                      450 non-null    object \n",
      " 7   Postcode                                   450 non-null    int64  \n",
      " 8   Industry                                   450 non-null    object \n",
      " 9   Industry descr                             434 non-null    object \n",
      " 10  Company Type                               450 non-null    object \n",
      " 11  Current fulltime                           446 non-null    float64\n",
      " 12  Job created                                11 non-null     float64\n",
      " 13  Job retain                                 14 non-null     float64\n",
      " 14  Effective Date                             450 non-null    object \n",
      " 15  Total Savings                              450 non-null    float64\n",
      " 16  Savings from beginning receiving benefits  450 non-null    float64\n",
      " 17  Borough                                    450 non-null    object \n",
      " 18  Latitude                                   409 non-null    float64\n",
      " 19  Longitude                                  409 non-null    float64\n",
      " 20  Community Board                            409 non-null    float64\n",
      " 21  Council District                           409 non-null    float64\n",
      " 22  Census Tract                               409 non-null    float64\n",
      " 23  BIN                                        401 non-null    float64\n",
      " 24  BBL                                        401 non-null    float64\n",
      " 25  NTA                                        409 non-null    object \n",
      "dtypes: float64(12), int64(1), object(13)\n",
      "memory usage: 91.5+ KB\n"
     ]
    }
   ],
   "source": [
    "# Checking information about given data\n",
    "vecsp_data.info()"
   ]
  },
  {
   "cell_type": "code",
   "execution_count": 4,
   "id": "c9b7e3ff",
   "metadata": {
    "scrolled": true
   },
   "outputs": [
    {
     "name": "stdout",
     "output_type": "stream",
     "text": [
      "There are 439 different companies represented in the data set.\n"
     ]
    }
   ],
   "source": [
    "# Counting unique values of the company names\n",
    "print('There are %s different companies represented in the data set.' % vecsp_data['Company Name'].nunique())"
   ]
  },
  {
   "cell_type": "markdown",
   "id": "fe1e8cbf",
   "metadata": {},
   "source": [
    "## Question 2: What is the total number of jobs created for businesses in Queens?"
   ]
  },
  {
   "cell_type": "code",
   "execution_count": 5,
   "id": "6e4a7e81",
   "metadata": {},
   "outputs": [
    {
     "data": {
      "text/plain": [
       "array(['Brooklyn', 'New York', 'Queens', 'Staten Island', 'Bronx'],\n",
       "      dtype=object)"
      ]
     },
     "execution_count": 5,
     "metadata": {},
     "output_type": "execute_result"
    }
   ],
   "source": [
    "# Checking for Queens in the data to verify that it is uniquely spelled\n",
    "vecsp_data['Borough'].unique()"
   ]
  },
  {
   "cell_type": "code",
   "execution_count": 6,
   "id": "755a3178",
   "metadata": {},
   "outputs": [
    {
     "name": "stdout",
     "output_type": "stream",
     "text": [
      "The total number of jobs created for business in Queens is 102.\n"
     ]
    }
   ],
   "source": [
    "# A lot of them are NaN, will drop them for this exersize\n",
    "jobs_created = sum(vecsp_data[vecsp_data['Borough']=='Queens']['Job created'].dropna())\n",
    "print('The total number of jobs created for business in Queens is %s.' % int(jobs_created))"
   ]
  },
  {
   "cell_type": "markdown",
   "id": "8d7f1767",
   "metadata": {},
   "source": [
    "## Question 3: How many different unique email domains names are there in the data set?"
   ]
  },
  {
   "cell_type": "code",
   "execution_count": 7,
   "id": "25118e82",
   "metadata": {},
   "outputs": [],
   "source": [
    "# First, let's create a new column that will conatin the email domains\n",
    "vecsp_data['email domains'] = vecsp_data['company email'].dropna().apply(lambda el: el.split('@')[1].lower() if '@' in el else el)"
   ]
  },
  {
   "cell_type": "code",
   "execution_count": 9,
   "id": "df502dc4",
   "metadata": {},
   "outputs": [
    {
     "name": "stdout",
     "output_type": "stream",
     "text": [
      "There are 361 different email domains represented in the data set.\n"
     ]
    }
   ],
   "source": [
    "print('There are %s different email domains represented in the data set.' %vecsp_data['email domains'].dropna().nunique())"
   ]
  },
  {
   "cell_type": "markdown",
   "id": "d83472ab",
   "metadata": {},
   "source": [
    "## Question 4: Considering only NTAs with at least 5 listed businesses, what is the average total savings and the total jobs created for each NTA?"
   ]
  },
  {
   "cell_type": "code",
   "execution_count": 10,
   "id": "9eb69881",
   "metadata": {},
   "outputs": [],
   "source": [
    "# Let's create a new DataFrame groupped by NTA and count the items\n",
    "by_NTA = vecsp_data.groupby('NTA').count()"
   ]
  },
  {
   "cell_type": "code",
   "execution_count": 11,
   "id": "8ef95264",
   "metadata": {},
   "outputs": [],
   "source": [
    "savings = by_NTA[by_NTA['Company Name']>=5]['Total Savings']"
   ]
  },
  {
   "cell_type": "code",
   "execution_count": 12,
   "id": "24b0cd81",
   "metadata": {},
   "outputs": [],
   "source": [
    "jobs = by_NTA[by_NTA['Company Name']>=5]['Job created']"
   ]
  },
  {
   "cell_type": "code",
   "execution_count": 13,
   "id": "bacecf96",
   "metadata": {
    "scrolled": true
   },
   "outputs": [],
   "source": [
    "NTA_stats = pd.concat([savings, jobs], axis = 1, join = 'inner')"
   ]
  },
  {
   "cell_type": "code",
   "execution_count": 14,
   "id": "b4f57d2a",
   "metadata": {},
   "outputs": [
    {
     "data": {
      "text/html": [
       "<div>\n",
       "<style scoped>\n",
       "    .dataframe tbody tr th:only-of-type {\n",
       "        vertical-align: middle;\n",
       "    }\n",
       "\n",
       "    .dataframe tbody tr th {\n",
       "        vertical-align: top;\n",
       "    }\n",
       "\n",
       "    .dataframe thead th {\n",
       "        text-align: right;\n",
       "    }\n",
       "</style>\n",
       "<table border=\"1\" class=\"dataframe\">\n",
       "  <thead>\n",
       "    <tr style=\"text-align: right;\">\n",
       "      <th></th>\n",
       "      <th>Total Savings</th>\n",
       "      <th>Job created</th>\n",
       "    </tr>\n",
       "    <tr>\n",
       "      <th>NTA</th>\n",
       "      <th></th>\n",
       "      <th></th>\n",
       "    </tr>\n",
       "  </thead>\n",
       "  <tbody>\n",
       "    <tr>\n",
       "      <th>Battery Park City-Lower Manhattan</th>\n",
       "      <td>9</td>\n",
       "      <td>0</td>\n",
       "    </tr>\n",
       "    <tr>\n",
       "      <th>Bushwick South</th>\n",
       "      <td>10</td>\n",
       "      <td>1</td>\n",
       "    </tr>\n",
       "    <tr>\n",
       "      <th>Carroll Gardens-Columbia Street-Red Hook</th>\n",
       "      <td>11</td>\n",
       "      <td>0</td>\n",
       "    </tr>\n",
       "    <tr>\n",
       "      <th>College Point</th>\n",
       "      <td>7</td>\n",
       "      <td>1</td>\n",
       "    </tr>\n",
       "    <tr>\n",
       "      <th>Crown Heights North</th>\n",
       "      <td>9</td>\n",
       "      <td>0</td>\n",
       "    </tr>\n",
       "    <tr>\n",
       "      <th>DUMBO-Vinegar Hill-Downtown Brooklyn-Boerum Hill</th>\n",
       "      <td>10</td>\n",
       "      <td>0</td>\n",
       "    </tr>\n",
       "    <tr>\n",
       "      <th>East New York</th>\n",
       "      <td>9</td>\n",
       "      <td>1</td>\n",
       "    </tr>\n",
       "    <tr>\n",
       "      <th>East Williamsburg</th>\n",
       "      <td>11</td>\n",
       "      <td>0</td>\n",
       "    </tr>\n",
       "    <tr>\n",
       "      <th>Greenpoint</th>\n",
       "      <td>14</td>\n",
       "      <td>0</td>\n",
       "    </tr>\n",
       "    <tr>\n",
       "      <th>Hunters Point-Sunnyside-West Maspeth</th>\n",
       "      <td>75</td>\n",
       "      <td>0</td>\n",
       "    </tr>\n",
       "    <tr>\n",
       "      <th>Hunts Point</th>\n",
       "      <td>13</td>\n",
       "      <td>1</td>\n",
       "    </tr>\n",
       "    <tr>\n",
       "      <th>Manhattanville</th>\n",
       "      <td>9</td>\n",
       "      <td>0</td>\n",
       "    </tr>\n",
       "    <tr>\n",
       "      <th>Maspeth</th>\n",
       "      <td>9</td>\n",
       "      <td>1</td>\n",
       "    </tr>\n",
       "    <tr>\n",
       "      <th>Mott Haven-Port Morris</th>\n",
       "      <td>14</td>\n",
       "      <td>3</td>\n",
       "    </tr>\n",
       "    <tr>\n",
       "      <th>Queensbridge-Ravenswood-Long Island City</th>\n",
       "      <td>16</td>\n",
       "      <td>0</td>\n",
       "    </tr>\n",
       "    <tr>\n",
       "      <th>SoHo-TriBeCa-Civic Center-Little Italy</th>\n",
       "      <td>5</td>\n",
       "      <td>0</td>\n",
       "    </tr>\n",
       "    <tr>\n",
       "      <th>Springfield Gardens South-Brookville</th>\n",
       "      <td>5</td>\n",
       "      <td>0</td>\n",
       "    </tr>\n",
       "    <tr>\n",
       "      <th>Steinway</th>\n",
       "      <td>7</td>\n",
       "      <td>1</td>\n",
       "    </tr>\n",
       "    <tr>\n",
       "      <th>Sunset Park West</th>\n",
       "      <td>48</td>\n",
       "      <td>0</td>\n",
       "    </tr>\n",
       "    <tr>\n",
       "      <th>park-cemetery-etc-Brooklyn</th>\n",
       "      <td>15</td>\n",
       "      <td>0</td>\n",
       "    </tr>\n",
       "  </tbody>\n",
       "</table>\n",
       "</div>"
      ],
      "text/plain": [
       "                                                  Total Savings  Job created\n",
       "NTA                                                                         \n",
       "Battery Park City-Lower Manhattan                             9            0\n",
       "Bushwick South                                               10            1\n",
       "Carroll Gardens-Columbia Street-Red Hook                     11            0\n",
       "College Point                                                 7            1\n",
       "Crown Heights North                                           9            0\n",
       "DUMBO-Vinegar Hill-Downtown Brooklyn-Boerum Hill             10            0\n",
       "East New York                                                 9            1\n",
       "East Williamsburg                                            11            0\n",
       "Greenpoint                                                   14            0\n",
       "Hunters Point-Sunnyside-West Maspeth                         75            0\n",
       "Hunts Point                                                  13            1\n",
       "Manhattanville                                                9            0\n",
       "Maspeth                                                       9            1\n",
       "Mott Haven-Port Morris                                       14            3\n",
       "Queensbridge-Ravenswood-Long Island City                     16            0\n",
       "SoHo-TriBeCa-Civic Center-Little Italy                        5            0\n",
       "Springfield Gardens South-Brookville                          5            0\n",
       "Steinway                                                      7            1\n",
       "Sunset Park West                                             48            0\n",
       "park-cemetery-etc-Brooklyn                                   15            0"
      ]
     },
     "execution_count": 14,
     "metadata": {},
     "output_type": "execute_result"
    }
   ],
   "source": [
    "NTA_stats.head(20)"
   ]
  },
  {
   "cell_type": "markdown",
   "id": "79c66728",
   "metadata": {},
   "source": [
    "## Question 5: Save your result for the previous question as a CSV file."
   ]
  },
  {
   "cell_type": "code",
   "execution_count": 15,
   "id": "263954c6",
   "metadata": {},
   "outputs": [],
   "source": [
    "NTA_stats.to_csv('NTA_AvergaeSavings_TotalJobs.csv')"
   ]
  },
  {
   "cell_type": "markdown",
   "id": "4c0a49e8",
   "metadata": {},
   "source": [
    "# 12 Day Program: Day 5\n",
    "Visualizing the data on the Value of Energy Cost Saving Program for businesses in New York City"
   ]
  },
  {
   "cell_type": "markdown",
   "id": "f871cd78",
   "metadata": {},
   "source": [
    "## Question 1: make a scatter plot of jobs created versus average savings. Use both a standard and a logarithmic scale for the average savings."
   ]
  },
  {
   "cell_type": "code",
   "execution_count": 78,
   "id": "97b1f464",
   "metadata": {},
   "outputs": [
    {
     "data": {
      "image/png": "[encoded data removed]",
      "text/plain": [
       "<Figure size 936x648 with 1 Axes>"
      ]
     },
     "metadata": {
      "needs_background": "light"
     },
     "output_type": "display_data"
    }
   ],
   "source": [
    "fig = plt.figure(figsize = (13,9))\n",
    "fs = 22\n",
    "plt.rc('text', usetex=True)\n",
    "plt.rc('font', family='serif')\n",
    "sns.scatterplot(data = vecsp_data, x = 'Total Savings', y = 'Job created', s = 35, edgecolor = 'k', color = '#00a0b0', marker = 'D')\n",
    "plt.xlabel(r'Total Savings', fontsize = fs)\n",
    "plt.ylabel(r'Jobs Created', fontsize = fs)\n",
    "plt.title(r'\\bf{Jobs Created vs. Average Savings}', fontsize = fs)\n",
    "plt.xticks(fontsize=fs)\n",
    "plt.yticks(fontsize=fs);"
   ]
  },
  {
   "cell_type": "code",
   "execution_count": 79,
   "id": "9b39e2c7",
   "metadata": {},
   "outputs": [
    {
     "data": {
      "image/png": "[encoded data removed]",
      "text/plain": [
       "<Figure size 936x648 with 1 Axes>"
      ]
     },
     "metadata": {
      "needs_background": "light"
     },
     "output_type": "display_data"
    }
   ],
   "source": [
    "fig = plt.figure(figsize = (13,9))\n",
    "sns.scatterplot(data = vecsp_data, x = 'Total Savings', y = 'Job created', s = 35, edgecolor = 'k', color = '#00a0b0', marker = 'D')\n",
    "plt.xscale('log')\n",
    "plt.xlabel(r'Total Savings', fontsize = 22)\n",
    "plt.ylabel(r'Jobs Created', fontsize = 22)\n",
    "plt.title(r'\\bf{Jobs Created vs. Average Savings}', fontsize = 22)\n",
    "plt.xticks(fontsize=18)\n",
    "plt.yticks(fontsize=18);"
   ]
  },
  {
   "cell_type": "markdown",
   "id": "6ceb1c00",
   "metadata": {},
   "source": [
    "## Question 2: create a histogram of the log of the average total savings."
   ]
  },
  {
   "cell_type": "code",
   "execution_count": 93,
   "id": "a9d25fdb",
   "metadata": {},
   "outputs": [
    {
     "data": {
      "image/png": "[encoded data removed]",
      "text/plain": [
       "<Figure size 936x648 with 1 Axes>"
      ]
     },
     "metadata": {
      "needs_background": "light"
     },
     "output_type": "display_data"
    }
   ],
   "source": [
    "fig = plt.figure(figsize = (13,9))\n",
    "vecsp_data['Total Savings'].apply(lambda x: np.log10(x) if np.isfinite(np.log10(x)) else np.nan).dropna().hist(bins = 35, edgecolor = 'k', color = '#00a0b0')\n",
    "plt.title(r'\\bf{Distribution of Average Total Savings}', fontsize = fs)\n",
    "plt.xlabel(r'Log$_{10}$ of Total Savings', fontsize = fs)\n",
    "plt.ylabel(r'Count', fontsize = fs)\n",
    "plt.xticks(fontsize=fs)\n",
    "plt.yticks(fontsize=fs);"
   ]
  },
  {
   "cell_type": "markdown",
   "id": "eaf9c09d",
   "metadata": {},
   "source": [
    "## Question 3: create a line plot of the total jobs created for each month."
   ]
  },
  {
   "cell_type": "code",
   "execution_count": 94,
   "id": "65c175fa",
   "metadata": {},
   "outputs": [],
   "source": [
    "# First we will convert the date column into datetime format\n",
    "vecsp_data['Effective Date'] = pd.to_datetime(vecsp_data['Effective Date'])"
   ]
  },
  {
   "cell_type": "code",
   "execution_count": 95,
   "id": "b56eb650",
   "metadata": {},
   "outputs": [],
   "source": [
    "vecsp_data['Effective Month'] = vecsp_data['Effective Date'].dt.month_name()"
   ]
  },
  {
   "cell_type": "code",
   "execution_count": 124,
   "id": "b9c6ee29",
   "metadata": {},
   "outputs": [
    {
     "data": {
      "text/plain": [
       "(0.0, 32.975)"
      ]
     },
     "execution_count": 124,
     "metadata": {},
     "output_type": "execute_result"
    },
    {
     "data": {
      "image/png": "[encoded data removed]",
      "text/plain": [
       "<Figure size 1440x720 with 1 Axes>"
      ]
     },
     "metadata": {
      "needs_background": "light"
     },
     "output_type": "display_data"
    }
   ],
   "source": [
    "fig = plt.figure(figsize = (20,10))\n",
    "sns.lineplot(data = vecsp_data, x = 'Effective Month', y = 'Job created', linewidth = 3, errorbar = None, marker = 'D',\n",
    "             markersize = 10, mec = 'k', mfc = '#00a0b0', ls = '--', color = '#00a0b0')\n",
    "plt.xlabel('Effective Month', fontsize = fs)\n",
    "plt.ylabel('Number of Jobs Created', fontsize = fs)\n",
    "plt.title(r'\\bf{Number of Jobs Created vs. Effective Month}', fontsize = fs)\n",
    "plt.xticks(fontsize=fs)\n",
    "plt.yticks(fontsize=fs)\n",
    "plt.ylim(0, None)"
   ]
  },
  {
   "cell_type": "code",
   "execution_count": 26,
   "id": "6b06b1f6",
   "metadata": {},
   "outputs": [
    {
     "data": {
      "text/plain": [
       "29     10.0\n",
       "37     60.0\n",
       "95      5.0\n",
       "120    12.0\n",
       "137    10.0\n",
       "325     2.0\n",
       "353     2.0\n",
       "414    15.0\n",
       "432     3.0\n",
       "433    20.0\n",
       "445    10.0\n",
       "Name: Job created, dtype: float64"
      ]
     },
     "execution_count": 26,
     "metadata": {},
     "output_type": "execute_result"
    }
   ],
   "source": [
    "vecsp_data['Job created'].dropna()"
   ]
  },
  {
   "cell_type": "code",
   "execution_count": null,
   "id": "84b6bfde",
   "metadata": {},
   "outputs": [],
   "source": []
  },
  {
   "cell_type": "code",
   "execution_count": 127,
   "id": "5a5c651c",
   "metadata": {},
   "outputs": [
    {
     "data": {
      "text/plain": [
       "Index(['Company Name', 'company contact', 'company email', 'company phone',\n",
       "       'Address', 'City', 'State', 'Postcode', 'Industry', 'Industry descr',\n",
       "       'Company Type', 'Current fulltime', 'Job created', 'Job retain',\n",
       "       'Effective Date', 'Total Savings',\n",
       "       'Savings from beginning receiving benefits', 'Borough', 'Latitude',\n",
       "       'Longitude', 'Community Board', 'Council District', 'Census Tract',\n",
       "       'BIN', 'BBL', 'NTA', 'email domains', 'Effective Month'],\n",
       "      dtype='object')"
      ]
     },
     "execution_count": 127,
     "metadata": {},
     "output_type": "execute_result"
    }
   ],
   "source": [
    "vecsp_data.columns"
   ]
  },
  {
   "cell_type": "code",
   "execution_count": null,
   "id": "2d6b6760",
   "metadata": {},
   "outputs": [],
   "source": []
  }
 ],
 "metadata": {
  "kernelspec": {
   "display_name": "Python 3 (ipykernel)",
   "language": "python",
   "name": "python3"
  },
  "language_info": {
   "codemirror_mode": {
    "name": "ipython",
    "version": 3
   },
   "file_extension": ".py",
   "mimetype": "text/x-python",
   "name": "python",
   "nbconvert_exporter": "python",
   "pygments_lexer": "ipython3",
   "version": "3.9.13"
  }
 },
 "nbformat": 4,
 "nbformat_minor": 5
}
