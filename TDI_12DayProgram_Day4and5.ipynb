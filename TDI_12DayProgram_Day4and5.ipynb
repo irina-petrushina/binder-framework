{
 "cells": [
  {
   "cell_type": "markdown",
   "metadata": {},
   "source": [
    "# 12 Day Program: Day 4\n",
    "Analyzing the Value of Energy Cost Saving Program for businesses in New York City "
   ]
  },
  {
   "cell_type": "markdown",
   "metadata": {},
   "source": [
    "## Importing the required modules"
   ]
  },
  {
   "cell_type": "code",
   "execution_count": 1,
   "metadata": {},
   "outputs": [],
   "source": [
    "import pandas as pd\n",
    "import numpy as np\n",
    "import matplotlib.pyplot as plt\n",
    "import seaborn as sns\n",
    "sns.set_style('darkgrid')\n",
    "%matplotlib inline"
   ]
  },
  {
   "cell_type": "markdown",
   "metadata": {},
   "source": [
    "## Uploading the data"
   ]
  },
  {
   "cell_type": "code",
   "execution_count": 2,
   "metadata": {},
   "outputs": [],
   "source": [
    "vecsp_data = pd.read_csv('Value_of_Energy_Cost_Savings_Program_Savings_for_Businesses_-_FY2020.csv')"
   ]
  },
  {
   "cell_type": "markdown",
   "metadata": {},
   "source": [
    "## Question 1: How many different companies are represented in the data set?"
   ]
  },
  {
   "cell_type": "code",
   "execution_count": 3,
   "metadata": {},
   "outputs": [
    {
     "name": "stdout",
     "output_type": "stream",
     "text": [
      "<class 'pandas.core.frame.DataFrame'>\n",
      "RangeIndex: 450 entries, 0 to 449\n",
      "Data columns (total 26 columns):\n",
      " #   Column                                     Non-Null Count  Dtype  \n",
      "---  ------                                     --------------  -----  \n",
      " 0   Company Name                               450 non-null    object \n",
      " 1   company contact                            450 non-null    object \n",
      " 2   company email                              433 non-null    object \n",
      " 3   company phone                              450 non-null    object \n",
      " 4   Address                                    450 non-null    object \n",
      " 5   City                                       450 non-null    object \n",
      " 6   State                                      450 non-null    object \n",
      " 7   Postcode                                   450 non-null    int64  \n",
      " 8   Industry                                   450 non-null    object \n",
      " 9   Industry descr                             434 non-null    object \n",
      " 10  Company Type                               450 non-null    object \n",
      " 11  Current fulltime                           446 non-null    float64\n",
      " 12  Job created                                11 non-null     float64\n",
      " 13  Job retain                                 14 non-null     float64\n",
      " 14  Effective Date                             450 non-null    object \n",
      " 15  Total Savings                              450 non-null    float64\n",
      " 16  Savings from beginning receiving benefits  450 non-null    float64\n",
      " 17  Borough                                    450 non-null    object \n",
      " 18  Latitude                                   409 non-null    float64\n",
      " 19  Longitude                                  409 non-null    float64\n",
      " 20  Community Board                            409 non-null    float64\n",
      " 21  Council District                           409 non-null    float64\n",
      " 22  Census Tract                               409 non-null    float64\n",
      " 23  BIN                                        401 non-null    float64\n",
      " 24  BBL                                        401 non-null    float64\n",
      " 25  NTA                                        409 non-null    object \n",
      "dtypes: float64(12), int64(1), object(13)\n",
      "memory usage: 91.5+ KB\n"
     ]
    }
   ],
   "source": [
    "# Checking information about given data.\n",
    "vecsp_data.info()"
   ]
  },
  {
   "cell_type": "code",
   "execution_count": 4,
   "metadata": {},
   "outputs": [
    {
     "data": {
      "text/plain": [
       "array(['1 State Street', '100 Church LLC', '100 Wall Investments',\n",
       "       '1-10 Bush Terminal Owner LP',\n",
       "       '120 Broadway Acquisitions JV, LLC (Ldmk)', '120 Wall Street, LLC',\n",
       "       '139 ACA Realty, Inc.',\n",
       "       '141 Lake Avenue Realty c/o JR Produce, Inc.',\n",
       "       '14-10 123rd Street LLC', '183 Lorriane Street LLC',\n",
       "       '195 Broadway, LLC', '2 Rector Street (NY) LLC',\n",
       "       '21st Century Optics, Inc.', '25 Broadway (Ldmk)', '4Over4.com',\n",
       "       '538-540 West 35 Corp', '55 Water, LLC', '72andSunny Partners LLC',\n",
       "       '75 Broad Street', 'A & L Scientific Corp.',\n",
       "       'A.K.S. International, Inc', 'ABEL CINE TECH, INC.',\n",
       "       'ABIGAL PRESS, INC.', 'Accenture LLP',\n",
       "       'Achieve Beyond, Inc. (Formerly Bilinguals, Inc.)',\n",
       "       'Action Carting Environmental Services, Inc', 'ADP Oak Point LLC',\n",
       "       'AECOM Technical Services Inc', 'Aesthetonics, Inc.',\n",
       "       'AFC INDUSTRIES, INC.', 'African Services Committee, Inc.',\n",
       "       'Aids Vaccine Advocacy Coalition',\n",
       "       'ALADDIN BAKERS, INC/Bread Head, LLC.',\n",
       "       'Albert Einstein College of Medicine R&D',\n",
       "       'Alchemy Paintworks LLC', 'All City Metal, Inc.',\n",
       "       'ALLE PROCESSING CORP.', 'ALLIED SAMPLE CARDS CO., INC.',\n",
       "       'Allison Eden Studios', 'Allstate Medical Supplies LLC',\n",
       "       'ALRUE IMPORT COPR.', 'Amazon Corporate LLC',\n",
       "       'American Bridge Company', 'American Folk Art Museum',\n",
       "       'American Torque, Inc.', 'American Transit Insurance Co',\n",
       "       'AMY SCHERBER, INC.', 'ANHEUSER BUSH',\n",
       "       'Apex Logistics International (JFK), Inc',\n",
       "       'Apple Bank for Savings', 'Approved Oil Co. of Brooklyn, Inc.',\n",
       "       'APTHORP CLEANERS, INC.', 'Arista Coffee, Inc.',\n",
       "       'Armada New York LLC', 'ARROW LINEN SUPPLY CO.',\n",
       "       'Asymptote Architecture, PLLC', 'B. Thayer Associates',\n",
       "       'B.C.S. International Corporation', 'B.P. AIR CONDITIONING CORP/',\n",
       "       'BACO ENTERPRISES, INC.', 'BALDOR SPECIALTY FOOD',\n",
       "       'BANNER SMOKED FISH, INC.', 'BARK FRAMEWORKS, INC.',\n",
       "       'BARONE STEEL FABRICATORS, INC.', 'Barry X. Ball Studio, Inc.',\n",
       "       'BCGA Concept Corporation', 'Belmont Metals', 'BENSON MILLS, INC.',\n",
       "       'Bermuda Motor Car Renting Co.', 'BEST CASE & ACCESSORIES, INC.',\n",
       "       'Best Choice Trading Corp', 'Best Mounting Corp.',\n",
       "       'Bestec Concept, Inc.', 'Bigheavy Studios',\n",
       "       'BILLIE-ANN PLASTICS PKGING CORP', \"BIMMY'S LLC\",\n",
       "       'Birns Telecommunication, Inc.', 'Bjork Carle Woodworking, Inc.',\n",
       "       'Blumberg Excelsior, Inc.', 'Bo Bo Poultry Market, Inc.',\n",
       "       'BoyceTechnologies, Inc.', 'Breuckelen Distilling Co., Inc.',\n",
       "       'BRIDGE PLAZA ASSOCIATES LLC', 'Bronx River Media Group, LLC',\n",
       "       'Bronx Westchester Tempering, Inc',\n",
       "       'Brooklyn Immuno Therapeutics LLC', 'Brooklyn Nets',\n",
       "       'BROOKLYN UNION GAS COMPANY', 'Brooklyn Wholesale Bakery LLC',\n",
       "       'Brunetti & Brunetti LLC', 'Burden, LLC',\n",
       "       'CAMEO METAL PRODUCTS, INC.', 'Caples Jefferson Architects, PC',\n",
       "       'Carlton House Restoration, Inc.', 'CARNEGIE LINEN SERVICES, INC.',\n",
       "       'Casual Films, Inc.', 'CAVCO ROOFING, INC.', 'Chase Bank, N.A.',\n",
       "       'Chelsea Plastics Corp/Plexi-Craft Quality Products',\n",
       "       \"Christie's Fine Art Storage Services, Inc\", \"Christie's Inc.\",\n",
       "       'Citibank, N.A.', 'City Baking LLC aka Bakery City LLC',\n",
       "       'CN MANAGEMENT LLC', 'Collins Building Services, Inc.',\n",
       "       'COMFORT BEDDING', 'Comp Trading LLC',\n",
       "       'Computer Services Group, Inc.', 'Concept Farm, Inc.',\n",
       "       'Constitution Realty LLC (Ldmk)', 'COOL WIND VENTILATION CORP.',\n",
       "       'CORONET PARTS MANUFACTURING CO. INC', 'COSMOS COMMUNICATIONS',\n",
       "       'Cotronics Corporation', 'Crepini, LLC',\n",
       "       'Crystal Lake Trading, Inc.', 'Cyracom International, Inc.',\n",
       "       'D.C. CENTER CORP', 'D.S. & Durga LLC', 'DAIRYLAND USA CORP.',\n",
       "       'Daniel Scuderi', 'Dart Medical Labortory, Inc.',\n",
       "       'Dasny Mechanical Inc.', 'DBAB Wall Street, LLC.',\n",
       "       'DCD Marketing Ltd.', 'Deep Draw Silver, Inc.',\n",
       "       'Delvi Realty Corp.', 'DEPOSITORY TRUST COMPANY',\n",
       "       'Deutsche Bank Securities, Inc.', 'DI DOMENICO & PARTNERS LLP',\n",
       "       'DIAMOND STREET PROPERTIES', 'Dinas Distribution Corp.',\n",
       "       'Down East & Seafood, Inc.', 'Dr. Smood New York Production LLC',\n",
       "       'Duce Construction Corp.', 'Dundy Glass & Mirror Corp.',\n",
       "       'DURA FOAM, INC.', 'E&C Property Holdings South, Inc.',\n",
       "       'E. J. York, Inc.', 'East Coast Envelope & Graphics, LLC',\n",
       "       'Ideas by Barbara', 'EASTERN CONCEPTS, INC.',\n",
       "       'Eastern Effects, Inc.', 'Eastern Plating, Inc.',\n",
       "       'Eclectic/Encore Properties, Inc.', 'EDISON PRICE, INC.',\n",
       "       'EMG Media, Inc.', 'Empress Media, Inc.', 'Epic Pharma LLC',\n",
       "       'Estee Lauder Companies, Inc', 'Evergreen 105 LLC',\n",
       "       'EverGreene Architectural Arts, Inc.',\n",
       "       'Export Trade of America, Inc.', 'E-Z Ink, Inc.',\n",
       "       'Fairway Bakery LLC', \"FALCONE'S COOKIELAND, LTD.\",\n",
       "       'FAT WITCH BAKERY, INC.', 'Faviana International Inc',\n",
       "       'FAVORITE PLASTICS CO., INC.', 'Fay Da Manufacturing Corp.',\n",
       "       'FEDERAL EXPRESS', 'Fidelity Payment Services Ltd.',\n",
       "       'First United Distribution Corp.', 'Food Saver, New York, Inc.',\n",
       "       'FoodFest Depot LLC', 'FOREST CITY PIERREPONT ASSOCIATES',\n",
       "       'Foster Reeve & Associates, Inc.',\n",
       "       'Franke Gottsegen & Cox Architect.',\n",
       "       'FRED GELLER ELECTRICAL, INC.', 'FRESH DIRECT LLC',\n",
       "       'G & G Manhattan Fruitier, Inc.',\n",
       "       'Gailer Stamping & Die Cutting, LLC', 'GBW LLC', 'gCreate LLC',\n",
       "       'Global Container Terminal (GCT) New York LP', 'Globus Cork, Inc.',\n",
       "       'Goldstein Capital Corp', 'Gotham Greens Gowanus LLC',\n",
       "       'GOTHAM SEAFOOD CORP.', 'GOURMET BOUTIQUE LLC',\n",
       "       'Graf & Lewent Architects LLP', 'Graham Windham Organization',\n",
       "       'GRAND MERIDIAN PRINTINGS, INC.',\n",
       "       'Grandstand Sports & Memorabilia, Inc.', 'Greenfelds LLC',\n",
       "       'Greenpoint Avenue Realty LLC', 'GREENPOINT GROUP, LLC',\n",
       "       'Grimm Ales LLC', 'Gustav Restoration LLC',\n",
       "       'HALE & HEARTY SOUPS, LLC', 'Hall Street Storage LLC',\n",
       "       'HALMARK ARCHITECTUAL FINISHING', 'HALO  Recognition, Inc',\n",
       "       'Harry Brainum Jr., Inc.', 'HEINSEN PRODUCTS, INC.',\n",
       "       'HERCULES HEAT TREATING CORPORATION,', 'HI INTERIORS, INC.',\n",
       "       'Hi Tech Metals, Inc.', 'Highline Locations LLC',\n",
       "       'Hindustan Granites, Inc.', 'HIRD/BLAKER, INC.',\n",
       "       'HI-TECH RESOURCE RECOVERY', 'House of Spices (India), Inc',\n",
       "       'Hudson Moving & Storage Co., Inc.', 'HUSH Studios, Inc.',\n",
       "       'Hydromx, Inc.', 'I. AM. Malia Mills, LLC',\n",
       "       'IDL Communications and Electric, Inc', 'IEH CORPORATION',\n",
       "       'Ikea Holding U.S., Inc.', 'Inner Gaze Furniture Designs, Inc.',\n",
       "       'Insek Design', 'Iron Mountain', 'J & B Realty LLC',\n",
       "       'J & J Johnson General Contracting Co., Inc.',\n",
       "       'J&S LICATA BROTHERS, INC', 'J. Crew Group, Inc.',\n",
       "       'Jacques Torres Manufacturing LLC',\n",
       "       'JAMES CARPENTER DESIGN ASSOC., INC.', 'JANUS MANAGEMENT, INC.',\n",
       "       'Japanese Food Depot LLC', 'JDB Market Corp.',\n",
       "       'JetBlue Airways, Corp.', 'Jetro Cash & Carry Enterprises LLC',\n",
       "       'Jewels For Me, Inc.', 'Johnson Ingraham Associates',\n",
       "       'Josiah McElheny Studio', 'JPR Mechanical Inc.',\n",
       "       'JUST BAGELS/ NORDQUIST ENTERPRISES', 'K Line Logistics (USA) Inc',\n",
       "       'K M S CONTRACTING INC dba Sure Iron Works',\n",
       "       'K. K. Machine Company, Inc.', 'Karr Graphics Corp.',\n",
       "       'KAS PRODUCTION CENTER LLC', 'Katiroll Company LLC, The',\n",
       "       'KAUFMAN Astoria Studios', 'KEPCO, INC.', 'Kickstarter, PBC',\n",
       "       'Kingsland 359 LLC', 'Kintetsu World Express (U.S.A.), Inc.',\n",
       "       'Kleins Naturals Ltd.', 'KONG KEE REALTY CORP',\n",
       "       'Kopelevich & Feldsherova, PC', 'Krasnyi Oktybar, Inc.',\n",
       "       'KRINOS FOODS, INC.', 'LaFarge North America',\n",
       "       'Lafayette 148, Inc', 'LAFAYETTE GRINDING CORP.',\n",
       "       'LEE SPRINGS COMPANY', 'Leemor Lilly, LLC',\n",
       "       'Lida Collection, Inc.', 'Liquid 8 Technology, Inc.',\n",
       "       'ROYAL DEVELOPMENT, INC.', 'Liquid Knits, Inc.', 'Livestream LLC',\n",
       "       'Lobonav Corp', 'Long Island Concrete, Inc.', \"M & R CPA's LLP\",\n",
       "       'M. SLAVIN & SONS, LTD.', 'Mack Glassnauth Iron Works, Inc.',\n",
       "       'MADAME PAULETTE, LIC, LLC', 'MADELAINE CHOCOLATE NOVELTIES, INC.',\n",
       "       'Magellan Aerospace New York, Inc', 'Marathon Energy Corp',\n",
       "       \"Maribel's Sweets, Inc.\", 'Maric Mechanical Inc.',\n",
       "       'Marina Ice Cream Corp.', 'MARJAM SUPPLY CO., INC.',\n",
       "       'Matros Automated Electrical Const.', 'McInnis USA Inc.',\n",
       "       'Mechoshade Systems, Inc.', 'MEDITERRANEAN GYRO PRODUCTS',\n",
       "       'Mesorah Publications, Ltd & Sefercraft, Inc',\n",
       "       'Michael C. Fina Co, Inc', 'MKJ Communications, Inc',\n",
       "       'Modern Windor & Door, Inc.', 'MONDIAL AUTOMOTIVE, INC.',\n",
       "       'MONTEBELLO FOOD CORP', 'Montefiore Medical Center',\n",
       "       'Music Arhive Collection LLC Floor 2 and 3', 'MYT Works, Inc',\n",
       "       'National Acoustics, Inc.', 'National Bias Binding Corp.',\n",
       "       'National Leather and Shoe Findings Co.',\n",
       "       'Natuzzi Bros Ice Co, Inc', 'Neighborhood Eigth Avenue LLC',\n",
       "       \"Neuman's Kitchen\", 'New Concepts of NY LLC', 'New Heydenryk, LLC',\n",
       "       'NEW PALACE PAINTERS SUPPLY CO., INC.', 'New Water Street  Corp',\n",
       "       'NEW YORK BLOOD CENTER',\n",
       "       'New York Digital Color Lithographers Printers, Inc',\n",
       "       'New York Fragrance', 'New York Insulation, Inc.',\n",
       "       'NEW YORKER WHOLESALE BAGELS, INC.', 'Noho Health, Inc',\n",
       "       'Nova Offset Corp', 'Novare LLC', 'NOVELTY CRYSTAL CORP.',\n",
       "       'Novo Arts Associates, Inc.', 'NULUX INDUSTRIES',\n",
       "       'NY Telephone #11194', 'Octopus Garden, Inc/Octopus Two Corp',\n",
       "       'Office 118 Equities LLC', 'Oh Nuts Warehousing, Inc.',\n",
       "       'One Girl Cookies, Ltd.', 'Other Half Brewing, Co,',\n",
       "       'Oven Artisans,  Inc.', \"Pain D'Avignon III Ltd.\",\n",
       "       'Paper Enterprises, Inc.', 'Parallel Development Ltd.',\n",
       "       'Parkway Equipment Handlers, Inc.', 'Parsons-Meares Ltd.',\n",
       "       'PEERLESS IMPORTERS, INC.', 'Pelican Bay Ltd.',\n",
       "       'PEPSI COLA BOTTLING CO., OF NY', 'PetCare Rx., Inc.',\n",
       "       'Phoenix Beverage', 'Picasso/Hoops, I Love New York LLC',\n",
       "       'Picture Farm II, LLC', 'Pinto & Teger Electric',\n",
       "       'POOK DIEMONT & OHL, INC.', 'Poster Printers, Inc.',\n",
       "       'Postmeds, Inc.', 'Premium Millwork, Inc.',\n",
       "       'Presentation Products, Inc.', 'Proxima, Inc',\n",
       "       'Quality Casting, Inc.', 'R Simon Design, Inc.',\n",
       "       'Rainbow Plastics, Inc.', 'Rareform Carting, Inc.',\n",
       "       'RDS Delivery Services, Co., Inc.', 'Real Coffee Roasters',\n",
       "       'Red Rabbit LLC', 'Rhonda Feinman Custom Frames, Inc.',\n",
       "       'Richards Plumbing & Heating Co., Inc.',\n",
       "       \"ROGELIO'S WAY/DIGITAL LAUNDRY\", 'Rogers Surveying PLLC.',\n",
       "       'Rolex Watch USA, Inc.', 'Rony Elka Vardi, Inc', 'Roxy Paine LLC',\n",
       "       'ROYAL AIRLINE LAUNDRY SERVICES CORP', 'Rufus Corporation',\n",
       "       'RUGUS REALTY, INC. DBA MISS GRIMBLE', 'Russ Ops LLC',\n",
       "       'RWS & Associates Entertainment', 'S&L AEROSPACE METALS LLC',\n",
       "       'Safe Art Sat, Inc.', 'Sculpture House Casting, Inc.',\n",
       "       'SDC Designs LLC', 'Sharan Builders, Inc.', 'Shloms Heimish Corp',\n",
       "       'SIGNS DECAL CORP.', 'SILLY PHILLIE CREATIONS, INC.',\n",
       "       'Silver Hill Atelier, LLC', 'SILVERCUP Services LLC',\n",
       "       'Silverman Ceramics, LLC/Alsio Design, LLC',\n",
       "       'SIM Digital New York', 'Simone Management Group, Inc.',\n",
       "       \"SIMON''S HARDWARE\", 'Sizzal, LLC',\n",
       "       'Sky High Murals - Colossal Media, Inc.',\n",
       "       'Skyline Restoration, Inc.', 'Skyline Windows, LLC',\n",
       "       'SoHarlem  Inc.', 'Spaeth Design, Inc.', 'Spectrum',\n",
       "       'Spin Master, Inc.', 'Square Roots Urban Growers, Inc.',\n",
       "       'SSJ Contracting', 'SSP America, Inc.', 'STALLION, INC.',\n",
       "       'Stand And Build LLC', 'StinkDigital USA LLC', 'Studio UG',\n",
       "       'Sunset Park Farm LLC', \"SWEET SAM'S BAKING CO., LLC\",\n",
       "       'T & M Richardson Street LLC', 'T & Z Properties LLC',\n",
       "       'TECHNICAL LIBRARY SERVICE, INC.', 'TEI Group',\n",
       "       'The Bronx Brewery LLC', 'The Dime Savings Bank of Williamsburg',\n",
       "       'The Gluck Architectural Collaborative, P.C.',\n",
       "       'The Handy Tool & Mfg. Co., Inc.', 'The Lobster Place, Inc.',\n",
       "       'The Woodwrights', 'THEODOSIOU', 'TI Ozone Park Storage LLC',\n",
       "       'TIN SHING REALTY, INC.', 'Ti-Tone Communications, Inc.',\n",
       "       'Toner Quest, Inc.', 'Tracy Watts, Inc.',\n",
       "       'TRANSCONTINENTAL ULTRA FLEX , INC.', 'Transmitter Brewing LLC',\n",
       "       'Treasure Asset Storage LLC', 'Tristate Plumbing Services, Inc.',\n",
       "       'Tropicana Products Sales, Inc.', \"TUFO'S WHOLESALE DAIRY INC.\",\n",
       "       'Twin Marquis, Inc', 'Twoseven Inc.', 'Ulano Corporation',\n",
       "       'ULTRA CREATIVE CORP.', 'United Air Conditioning Corp',\n",
       "       'United Nations Federal Credit Union', 'Uniworld Group Inc.',\n",
       "       'Urban Archaeology, LTD', 'Urban Green LLC',\n",
       "       'USTA NATIONAL TENNIS CENTER, INC.', 'UTC Corporation',\n",
       "       'Valon Realty, LLC', 'Van Blarcom Closures Inc',\n",
       "       'VANBRO CORPORATION', 'VaynerMedia LLC',\n",
       "       'Vera Institute of Justice, Inc.', 'Vernon Lakes Partners',\n",
       "       'VISITING NURSE SERVICE OF NEW YORK', 'VISY PAPER RECYCLING',\n",
       "       'VIVA TIME CORP.', 'W Architecture & Landscape Architecture LLC',\n",
       "       'WALDORF BAKERY, INC. DBA MAURICE', 'WATER LILIES FOOD, INC.',\n",
       "       'WATERMARK DESIGN, LTD.', 'Weapons Specialist Ltd',\n",
       "       'Werwaiss & Co., Inc.', 'WHBI LLC',\n",
       "       'Whipped Pastry Boutique, Inc.', 'White Coffee Corporation',\n",
       "       'WHITEHEAD COMPANY, INC.', 'WIGGBY PRECISION MACHINE CORP.',\n",
       "       'Wild Edibles, Inc.', 'William Hird & Co., Inc.',\n",
       "       'Williams Sonoma, Inc.', 'WONTON FOOD, INC.', 'Wood Works',\n",
       "       'WorldWide Plumbing Supply, Inc.', 'WUD Furniture LLC',\n",
       "       'Wurtec Incorporated'], dtype=object)"
      ]
     },
     "execution_count": 4,
     "metadata": {},
     "output_type": "execute_result"
    }
   ],
   "source": [
    "# Checking the unqiue values of the company names.\n",
    "vecsp_data['Company Name'].unique()"
   ]
  },
  {
   "cell_type": "code",
   "execution_count": 5,
   "metadata": {},
   "outputs": [
    {
     "data": {
      "text/plain": [
       "True"
      ]
     },
     "execution_count": 5,
     "metadata": {},
     "output_type": "execute_result"
    }
   ],
   "source": [
    "# Some names are written in all caps, some are not, checking that case doesn't matter when counting the unique values.\n",
    "vecsp_data['Company Name'].apply(lambda x: x.lower()).nunique() == vecsp_data['Company Name'].nunique()"
   ]
  },
  {
   "cell_type": "code",
   "execution_count": 6,
   "metadata": {
    "scrolled": true
   },
   "outputs": [
    {
     "name": "stdout",
     "output_type": "stream",
     "text": [
      "There are 439 different companies represented in the data set.\n"
     ]
    }
   ],
   "source": [
    "# Counting unique values of the company names and printing out the answer.\n",
    "print('There are %s different companies represented in the data set.' % vecsp_data['Company Name'].nunique())"
   ]
  },
  {
   "cell_type": "markdown",
   "metadata": {},
   "source": [
    "## Question 2: What is the total number of jobs created for businesses in Queens?"
   ]
  },
  {
   "cell_type": "code",
   "execution_count": 7,
   "metadata": {},
   "outputs": [
    {
     "data": {
      "text/plain": [
       "array(['Brooklyn', 'New York', 'Queens', 'Staten Island', 'Bronx'],\n",
       "      dtype=object)"
      ]
     },
     "execution_count": 7,
     "metadata": {},
     "output_type": "execute_result"
    }
   ],
   "source": [
    "# Checking for Queens in the data to verify that it is uniquely spelled.\n",
    "vecsp_data['Borough'].unique()"
   ]
  },
  {
   "cell_type": "code",
   "execution_count": 8,
   "metadata": {},
   "outputs": [
    {
     "data": {
      "text/plain": [
       "6       NaN\n",
       "8       NaN\n",
       "12      NaN\n",
       "14      NaN\n",
       "15      NaN\n",
       "       ... \n",
       "433    20.0\n",
       "435     NaN\n",
       "436     NaN\n",
       "439     NaN\n",
       "449     NaN\n",
       "Name: Job created, Length: 173, dtype: float64"
      ]
     },
     "execution_count": 8,
     "metadata": {},
     "output_type": "execute_result"
    }
   ],
   "source": [
    "# Checking out the data.\n",
    "vecsp_data[vecsp_data['Borough']=='Queens']['Job created']"
   ]
  },
  {
   "cell_type": "code",
   "execution_count": 9,
   "metadata": {},
   "outputs": [
    {
     "name": "stdout",
     "output_type": "stream",
     "text": [
      "The total number of jobs created for business in Queens is 102.\n"
     ]
    }
   ],
   "source": [
    "# A lot of them are NaN, will drop them for this exercise and print the answer.\n",
    "jobs_created = sum(vecsp_data[vecsp_data['Borough']=='Queens']['Job created'].dropna())\n",
    "print('The total number of jobs created for business in Queens is %s.' % int(jobs_created))"
   ]
  },
  {
   "cell_type": "markdown",
   "metadata": {},
   "source": [
    "## Question 3: How many different unique email domains names are there in the data set?"
   ]
  },
  {
   "cell_type": "code",
   "execution_count": 10,
   "metadata": {},
   "outputs": [
    {
     "data": {
      "text/plain": [
       "0         eskoblo@energyspec.com\n",
       "3      akimball@industrycity.com\n",
       "4          clettich@silvprop.com\n",
       "5          jmccalla@silvprop.com\n",
       "6              barbara@dial7.com\n",
       "                 ...            \n",
       "445     donaldlau@wontonfood.com\n",
       "446         brawnworks@gmail.com\n",
       "447             sheidya@wwps.com\n",
       "448       keren@wudfurniture.com\n",
       "449         bill.popp@wurtec.com\n",
       "Name: company email, Length: 433, dtype: object"
      ]
     },
     "execution_count": 10,
     "metadata": {},
     "output_type": "execute_result"
    }
   ],
   "source": [
    "# First, let's take a look at the email column.\n",
    "vecsp_data['company email'].dropna()"
   ]
  },
  {
   "cell_type": "code",
   "execution_count": 11,
   "metadata": {},
   "outputs": [
    {
     "data": {
      "text/plain": [
       "75         billieannplastics.com\n",
       "87     jgewitrtzbrooklynnets.com\n",
       "188         officegreenfelds.com\n",
       "307    adenovarebiologistics.com\n",
       "419      urbangreenfurniture.com\n",
       "Name: missing @, dtype: object"
      ]
     },
     "execution_count": 11,
     "metadata": {},
     "output_type": "execute_result"
    }
   ],
   "source": [
    "# Naturally, we would split the email address by @ to find the domain, but doing that leads to an error indicating that some entries are missing @ symbol. To check them out, we will create a new column that shows only the entries without @. It looks like these entries are pure domains. Hence, I'm going to count them towards the number of unique domains.\n",
    "vecsp_data['missing @'] = vecsp_data['company email'].dropna().apply(lambda el: None if '@' in el else el)\n",
    "vecsp_data['missing @'].dropna()"
   ]
  },
  {
   "cell_type": "code",
   "execution_count": 12,
   "metadata": {},
   "outputs": [],
   "source": [
    "# Now let's create a new column that will contain the email domains. Splitting by @ if it is present in the address, otherwise just keeping the line as is since we confirmed that these are domains.\n",
    "vecsp_data['email domains'] = vecsp_data['company email'].dropna().apply(lambda el: el.split('@')[1].lower() if '@' in el else el)"
   ]
  },
  {
   "cell_type": "code",
   "execution_count": 13,
   "metadata": {},
   "outputs": [
    {
     "name": "stdout",
     "output_type": "stream",
     "text": [
      "There are 361 different email domains represented in the data set.\n"
     ]
    }
   ],
   "source": [
    "# Printing the asnwer\n",
    "print('There are %s different email domains represented in the data set.' %vecsp_data['email domains'].dropna().nunique())"
   ]
  },
  {
   "cell_type": "markdown",
   "metadata": {},
   "source": [
    "## Question 4: Considering only NTAs with at least 5 listed businesses, what is the average total savings and the total jobs created for each NTA?"
   ]
  },
  {
   "cell_type": "code",
   "execution_count": 14,
   "metadata": {},
   "outputs": [
    {
     "name": "stdout",
     "output_type": "stream",
     "text": [
      "['Midwood' 'SoHo-TriBeCa-Civic Center-Little Italy'\n",
      " 'Battery Park City-Lower Manhattan' 'Sunset Park West'\n",
      " 'Hunters Point-Sunnyside-West Maspeth'\n",
      " \"Mariner's Harbor-Arlington-Port Ivory-Graniteville\" 'College Point'\n",
      " 'Carroll Gardens-Columbia Street-Red Hook' 'Steinway'\n",
      " 'DUMBO-Vinegar Hill-Downtown Brooklyn-Boerum Hill' 'Glendale'\n",
      " 'Ozone Park' 'Forest Hills' nan 'Hunts Point' 'Bushwick South'\n",
      " 'Whitestone' 'Manhattanville' 'Van Nest-Morris Park-Westchester Square'\n",
      " 'Crown Heights North' 'North Side-South Side'\n",
      " 'Queensbridge-Ravenswood-Long Island City' 'Jamaica'\n",
      " 'Springfield Gardens South-Brookville' 'Murray Hill-Kips Bay'\n",
      " 'Mott Haven-Port Morris' 'Maspeth' 'park-cemetery-etc-Brooklyn'\n",
      " 'Windsor Terrace' 'Seagate-Coney Island' 'Greenpoint' 'East Williamsburg'\n",
      " 'East New York (Pennsylvania Ave)' 'Richmond Hill' 'Borough Park'\n",
      " 'Brooklyn Heights-Cobble Hill'\n",
      " 'Soundview-Castle Hill-Clason Point-Harding Park' 'Park Slope-Gowanus'\n",
      " 'Old Astoria' 'Brownsville' 'East New York' 'Flushing' 'St. Albans'\n",
      " 'Laurelton' 'Hudson Yards-Chelsea-Flatiron-Union Square'\n",
      " 'Bensonhurst West' 'East Harlem North' 'East Flatbush-Farragut'\n",
      " 'Canarsie' 'Bedford' 'Prospect Lefferts Gardens-Wingate' 'Clinton Hill'\n",
      " 'Washington Heights South' 'New Springville-Bloomfield-Travis'\n",
      " 'Ridgewood' 'Morrisania-Melrose' 'Ocean Hill' 'Elmhurst-Maspeth'\n",
      " 'Astoria' 'Claremont-Bathgate' 'Queens Village'\n",
      " 'Breezy Point-Belle Harbor-Rockaway Park-Broad Channel' 'Corona'\n",
      " 'Woodside' 'Ocean Parkway South' 'Westchester-Unionport' 'Norwood'\n",
      " 'East Tremont' 'Eastchester-Edenwald-Baychester' 'Port Richmond'\n",
      " 'Central Harlem South' 'Baisley Park' 'Rugby-Remsen Village' 'Flatlands'\n",
      " 'Rossville-Woodrow' 'Midtown-Midtown South' 'Williamsburg'\n",
      " 'Central Harlem North-Polo Grounds' 'Highbridge' 'Co-op City'] 79\n"
     ]
    }
   ],
   "source": [
    "# Chekcing unique NTAs.\n",
    "print(vecsp_data['NTA'].unique(),vecsp_data['NTA'].nunique())"
   ]
  },
  {
   "cell_type": "code",
   "execution_count": 15,
   "metadata": {},
   "outputs": [
    {
     "data": {
      "text/html": [
       "<div>\n",
       "<style scoped>\n",
       "    .dataframe tbody tr th:only-of-type {\n",
       "        vertical-align: middle;\n",
       "    }\n",
       "\n",
       "    .dataframe tbody tr th {\n",
       "        vertical-align: top;\n",
       "    }\n",
       "\n",
       "    .dataframe thead th {\n",
       "        text-align: right;\n",
       "    }\n",
       "</style>\n",
       "<table border=\"1\" class=\"dataframe\">\n",
       "  <thead>\n",
       "    <tr style=\"text-align: right;\">\n",
       "      <th></th>\n",
       "      <th>listed_businesses</th>\n",
       "      <th>total_savings</th>\n",
       "      <th>total_jobs</th>\n",
       "    </tr>\n",
       "    <tr>\n",
       "      <th>NTA</th>\n",
       "      <th></th>\n",
       "      <th></th>\n",
       "      <th></th>\n",
       "    </tr>\n",
       "  </thead>\n",
       "  <tbody>\n",
       "    <tr>\n",
       "      <th>Astoria</th>\n",
       "      <td>3</td>\n",
       "      <td>34229.96</td>\n",
       "      <td>0.0</td>\n",
       "    </tr>\n",
       "    <tr>\n",
       "      <th>Baisley Park</th>\n",
       "      <td>1</td>\n",
       "      <td>21522.74</td>\n",
       "      <td>0.0</td>\n",
       "    </tr>\n",
       "    <tr>\n",
       "      <th>Battery Park City-Lower Manhattan</th>\n",
       "      <td>9</td>\n",
       "      <td>4229017.17</td>\n",
       "      <td>0.0</td>\n",
       "    </tr>\n",
       "    <tr>\n",
       "      <th>Bedford</th>\n",
       "      <td>3</td>\n",
       "      <td>186340.03</td>\n",
       "      <td>0.0</td>\n",
       "    </tr>\n",
       "    <tr>\n",
       "      <th>Bensonhurst West</th>\n",
       "      <td>1</td>\n",
       "      <td>-379.47</td>\n",
       "      <td>0.0</td>\n",
       "    </tr>\n",
       "  </tbody>\n",
       "</table>\n",
       "</div>"
      ],
      "text/plain": [
       "                                   listed_businesses  total_savings  \\\n",
       "NTA                                                                   \n",
       "Astoria                                            3       34229.96   \n",
       "Baisley Park                                       1       21522.74   \n",
       "Battery Park City-Lower Manhattan                  9     4229017.17   \n",
       "Bedford                                            3      186340.03   \n",
       "Bensonhurst West                                   1        -379.47   \n",
       "\n",
       "                                   total_jobs  \n",
       "NTA                                            \n",
       "Astoria                                   0.0  \n",
       "Baisley Park                              0.0  \n",
       "Battery Park City-Lower Manhattan         0.0  \n",
       "Bedford                                   0.0  \n",
       "Bensonhurst West                          0.0  "
      ]
     },
     "execution_count": 15,
     "metadata": {},
     "output_type": "execute_result"
    }
   ],
   "source": [
    "# Let's create a new DataFrame groupped by NTA and count the items.\n",
    "by_NTA = vecsp_data.groupby('NTA').agg(listed_businesses=('Company Name', 'count'), total_savings=('Total Savings', 'sum'), total_jobs = ('Job created', 'sum'))\n",
    "by_NTA.head()"
   ]
  },
  {
   "cell_type": "code",
   "execution_count": 16,
   "metadata": {},
   "outputs": [
    {
     "data": {
      "text/html": [
       "<div>\n",
       "<style scoped>\n",
       "    .dataframe tbody tr th:only-of-type {\n",
       "        vertical-align: middle;\n",
       "    }\n",
       "\n",
       "    .dataframe tbody tr th {\n",
       "        vertical-align: top;\n",
       "    }\n",
       "\n",
       "    .dataframe thead th {\n",
       "        text-align: right;\n",
       "    }\n",
       "</style>\n",
       "<table border=\"1\" class=\"dataframe\">\n",
       "  <thead>\n",
       "    <tr style=\"text-align: right;\">\n",
       "      <th></th>\n",
       "      <th>listed_businesses</th>\n",
       "      <th>total_savings</th>\n",
       "      <th>total_jobs</th>\n",
       "      <th>average_total_savings</th>\n",
       "    </tr>\n",
       "    <tr>\n",
       "      <th>NTA</th>\n",
       "      <th></th>\n",
       "      <th></th>\n",
       "      <th></th>\n",
       "      <th></th>\n",
       "    </tr>\n",
       "  </thead>\n",
       "  <tbody>\n",
       "    <tr>\n",
       "      <th>Astoria</th>\n",
       "      <td>3</td>\n",
       "      <td>34229.96</td>\n",
       "      <td>0.0</td>\n",
       "      <td>11409.986667</td>\n",
       "    </tr>\n",
       "    <tr>\n",
       "      <th>Baisley Park</th>\n",
       "      <td>1</td>\n",
       "      <td>21522.74</td>\n",
       "      <td>0.0</td>\n",
       "      <td>21522.740000</td>\n",
       "    </tr>\n",
       "    <tr>\n",
       "      <th>Battery Park City-Lower Manhattan</th>\n",
       "      <td>9</td>\n",
       "      <td>4229017.17</td>\n",
       "      <td>0.0</td>\n",
       "      <td>469890.796667</td>\n",
       "    </tr>\n",
       "    <tr>\n",
       "      <th>Bedford</th>\n",
       "      <td>3</td>\n",
       "      <td>186340.03</td>\n",
       "      <td>0.0</td>\n",
       "      <td>62113.343333</td>\n",
       "    </tr>\n",
       "    <tr>\n",
       "      <th>Bensonhurst West</th>\n",
       "      <td>1</td>\n",
       "      <td>-379.47</td>\n",
       "      <td>0.0</td>\n",
       "      <td>-379.470000</td>\n",
       "    </tr>\n",
       "  </tbody>\n",
       "</table>\n",
       "</div>"
      ],
      "text/plain": [
       "                                   listed_businesses  total_savings  \\\n",
       "NTA                                                                   \n",
       "Astoria                                            3       34229.96   \n",
       "Baisley Park                                       1       21522.74   \n",
       "Battery Park City-Lower Manhattan                  9     4229017.17   \n",
       "Bedford                                            3      186340.03   \n",
       "Bensonhurst West                                   1        -379.47   \n",
       "\n",
       "                                   total_jobs  average_total_savings  \n",
       "NTA                                                                   \n",
       "Astoria                                   0.0           11409.986667  \n",
       "Baisley Park                              0.0           21522.740000  \n",
       "Battery Park City-Lower Manhattan         0.0          469890.796667  \n",
       "Bedford                                   0.0           62113.343333  \n",
       "Bensonhurst West                          0.0            -379.470000  "
      ]
     },
     "execution_count": 16,
     "metadata": {},
     "output_type": "execute_result"
    }
   ],
   "source": [
    "# Adding a column for average total savings\n",
    "by_NTA['average_total_savings']=by_NTA['total_savings']/by_NTA['listed_businesses']\n",
    "by_NTA.head()"
   ]
  },
  {
   "cell_type": "code",
   "execution_count": 17,
   "metadata": {},
   "outputs": [
    {
     "data": {
      "text/html": [
       "<div>\n",
       "<style scoped>\n",
       "    .dataframe tbody tr th:only-of-type {\n",
       "        vertical-align: middle;\n",
       "    }\n",
       "\n",
       "    .dataframe tbody tr th {\n",
       "        vertical-align: top;\n",
       "    }\n",
       "\n",
       "    .dataframe thead th {\n",
       "        text-align: right;\n",
       "    }\n",
       "</style>\n",
       "<table border=\"1\" class=\"dataframe\">\n",
       "  <thead>\n",
       "    <tr style=\"text-align: right;\">\n",
       "      <th></th>\n",
       "      <th>listed_businesses</th>\n",
       "      <th>total_savings</th>\n",
       "      <th>total_jobs</th>\n",
       "      <th>average_total_savings</th>\n",
       "    </tr>\n",
       "    <tr>\n",
       "      <th>NTA</th>\n",
       "      <th></th>\n",
       "      <th></th>\n",
       "      <th></th>\n",
       "      <th></th>\n",
       "    </tr>\n",
       "  </thead>\n",
       "  <tbody>\n",
       "    <tr>\n",
       "      <th>Battery Park City-Lower Manhattan</th>\n",
       "      <td>9</td>\n",
       "      <td>4229017.17</td>\n",
       "      <td>0.0</td>\n",
       "      <td>469890.796667</td>\n",
       "    </tr>\n",
       "    <tr>\n",
       "      <th>Bushwick South</th>\n",
       "      <td>10</td>\n",
       "      <td>261404.55</td>\n",
       "      <td>10.0</td>\n",
       "      <td>26140.455000</td>\n",
       "    </tr>\n",
       "    <tr>\n",
       "      <th>Carroll Gardens-Columbia Street-Red Hook</th>\n",
       "      <td>11</td>\n",
       "      <td>267711.29</td>\n",
       "      <td>0.0</td>\n",
       "      <td>24337.390000</td>\n",
       "    </tr>\n",
       "    <tr>\n",
       "      <th>College Point</th>\n",
       "      <td>7</td>\n",
       "      <td>120115.61</td>\n",
       "      <td>2.0</td>\n",
       "      <td>17159.372857</td>\n",
       "    </tr>\n",
       "    <tr>\n",
       "      <th>Crown Heights North</th>\n",
       "      <td>9</td>\n",
       "      <td>36326.69</td>\n",
       "      <td>0.0</td>\n",
       "      <td>4036.298889</td>\n",
       "    </tr>\n",
       "    <tr>\n",
       "      <th>DUMBO-Vinegar Hill-Downtown Brooklyn-Boerum Hill</th>\n",
       "      <td>10</td>\n",
       "      <td>599503.40</td>\n",
       "      <td>0.0</td>\n",
       "      <td>59950.340000</td>\n",
       "    </tr>\n",
       "    <tr>\n",
       "      <th>East New York</th>\n",
       "      <td>9</td>\n",
       "      <td>435897.84</td>\n",
       "      <td>15.0</td>\n",
       "      <td>48433.093333</td>\n",
       "    </tr>\n",
       "    <tr>\n",
       "      <th>East Williamsburg</th>\n",
       "      <td>11</td>\n",
       "      <td>153896.89</td>\n",
       "      <td>0.0</td>\n",
       "      <td>13990.626364</td>\n",
       "    </tr>\n",
       "    <tr>\n",
       "      <th>Greenpoint</th>\n",
       "      <td>14</td>\n",
       "      <td>136551.09</td>\n",
       "      <td>0.0</td>\n",
       "      <td>9753.649286</td>\n",
       "    </tr>\n",
       "    <tr>\n",
       "      <th>Hunters Point-Sunnyside-West Maspeth</th>\n",
       "      <td>75</td>\n",
       "      <td>1794854.92</td>\n",
       "      <td>0.0</td>\n",
       "      <td>23931.398933</td>\n",
       "    </tr>\n",
       "    <tr>\n",
       "      <th>Hunts Point</th>\n",
       "      <td>13</td>\n",
       "      <td>510198.21</td>\n",
       "      <td>12.0</td>\n",
       "      <td>39246.016154</td>\n",
       "    </tr>\n",
       "    <tr>\n",
       "      <th>Manhattanville</th>\n",
       "      <td>9</td>\n",
       "      <td>24848.00</td>\n",
       "      <td>0.0</td>\n",
       "      <td>2760.888889</td>\n",
       "    </tr>\n",
       "    <tr>\n",
       "      <th>Maspeth</th>\n",
       "      <td>9</td>\n",
       "      <td>59924.55</td>\n",
       "      <td>10.0</td>\n",
       "      <td>6658.283333</td>\n",
       "    </tr>\n",
       "    <tr>\n",
       "      <th>Mott Haven-Port Morris</th>\n",
       "      <td>14</td>\n",
       "      <td>249815.13</td>\n",
       "      <td>10.0</td>\n",
       "      <td>17843.937857</td>\n",
       "    </tr>\n",
       "    <tr>\n",
       "      <th>Queensbridge-Ravenswood-Long Island City</th>\n",
       "      <td>16</td>\n",
       "      <td>989292.33</td>\n",
       "      <td>0.0</td>\n",
       "      <td>61830.770625</td>\n",
       "    </tr>\n",
       "    <tr>\n",
       "      <th>SoHo-TriBeCa-Civic Center-Little Italy</th>\n",
       "      <td>5</td>\n",
       "      <td>186070.12</td>\n",
       "      <td>0.0</td>\n",
       "      <td>37214.024000</td>\n",
       "    </tr>\n",
       "    <tr>\n",
       "      <th>Springfield Gardens South-Brookville</th>\n",
       "      <td>5</td>\n",
       "      <td>88788.31</td>\n",
       "      <td>0.0</td>\n",
       "      <td>17757.662000</td>\n",
       "    </tr>\n",
       "    <tr>\n",
       "      <th>Steinway</th>\n",
       "      <td>7</td>\n",
       "      <td>78590.09</td>\n",
       "      <td>20.0</td>\n",
       "      <td>11227.155714</td>\n",
       "    </tr>\n",
       "    <tr>\n",
       "      <th>Sunset Park West</th>\n",
       "      <td>48</td>\n",
       "      <td>687214.89</td>\n",
       "      <td>0.0</td>\n",
       "      <td>14316.976875</td>\n",
       "    </tr>\n",
       "    <tr>\n",
       "      <th>park-cemetery-etc-Brooklyn</th>\n",
       "      <td>15</td>\n",
       "      <td>214911.29</td>\n",
       "      <td>0.0</td>\n",
       "      <td>14327.419333</td>\n",
       "    </tr>\n",
       "  </tbody>\n",
       "</table>\n",
       "</div>"
      ],
      "text/plain": [
       "                                                  listed_businesses  \\\n",
       "NTA                                                                   \n",
       "Battery Park City-Lower Manhattan                                 9   \n",
       "Bushwick South                                                   10   \n",
       "Carroll Gardens-Columbia Street-Red Hook                         11   \n",
       "College Point                                                     7   \n",
       "Crown Heights North                                               9   \n",
       "DUMBO-Vinegar Hill-Downtown Brooklyn-Boerum Hill                 10   \n",
       "East New York                                                     9   \n",
       "East Williamsburg                                                11   \n",
       "Greenpoint                                                       14   \n",
       "Hunters Point-Sunnyside-West Maspeth                             75   \n",
       "Hunts Point                                                      13   \n",
       "Manhattanville                                                    9   \n",
       "Maspeth                                                           9   \n",
       "Mott Haven-Port Morris                                           14   \n",
       "Queensbridge-Ravenswood-Long Island City                         16   \n",
       "SoHo-TriBeCa-Civic Center-Little Italy                            5   \n",
       "Springfield Gardens South-Brookville                              5   \n",
       "Steinway                                                          7   \n",
       "Sunset Park West                                                 48   \n",
       "park-cemetery-etc-Brooklyn                                       15   \n",
       "\n",
       "                                                  total_savings  total_jobs  \\\n",
       "NTA                                                                           \n",
       "Battery Park City-Lower Manhattan                    4229017.17         0.0   \n",
       "Bushwick South                                        261404.55        10.0   \n",
       "Carroll Gardens-Columbia Street-Red Hook              267711.29         0.0   \n",
       "College Point                                         120115.61         2.0   \n",
       "Crown Heights North                                    36326.69         0.0   \n",
       "DUMBO-Vinegar Hill-Downtown Brooklyn-Boerum Hill      599503.40         0.0   \n",
       "East New York                                         435897.84        15.0   \n",
       "East Williamsburg                                     153896.89         0.0   \n",
       "Greenpoint                                            136551.09         0.0   \n",
       "Hunters Point-Sunnyside-West Maspeth                 1794854.92         0.0   \n",
       "Hunts Point                                           510198.21        12.0   \n",
       "Manhattanville                                         24848.00         0.0   \n",
       "Maspeth                                                59924.55        10.0   \n",
       "Mott Haven-Port Morris                                249815.13        10.0   \n",
       "Queensbridge-Ravenswood-Long Island City              989292.33         0.0   \n",
       "SoHo-TriBeCa-Civic Center-Little Italy                186070.12         0.0   \n",
       "Springfield Gardens South-Brookville                   88788.31         0.0   \n",
       "Steinway                                               78590.09        20.0   \n",
       "Sunset Park West                                      687214.89         0.0   \n",
       "park-cemetery-etc-Brooklyn                            214911.29         0.0   \n",
       "\n",
       "                                                  average_total_savings  \n",
       "NTA                                                                      \n",
       "Battery Park City-Lower Manhattan                         469890.796667  \n",
       "Bushwick South                                             26140.455000  \n",
       "Carroll Gardens-Columbia Street-Red Hook                   24337.390000  \n",
       "College Point                                              17159.372857  \n",
       "Crown Heights North                                         4036.298889  \n",
       "DUMBO-Vinegar Hill-Downtown Brooklyn-Boerum Hill           59950.340000  \n",
       "East New York                                              48433.093333  \n",
       "East Williamsburg                                          13990.626364  \n",
       "Greenpoint                                                  9753.649286  \n",
       "Hunters Point-Sunnyside-West Maspeth                       23931.398933  \n",
       "Hunts Point                                                39246.016154  \n",
       "Manhattanville                                              2760.888889  \n",
       "Maspeth                                                     6658.283333  \n",
       "Mott Haven-Port Morris                                     17843.937857  \n",
       "Queensbridge-Ravenswood-Long Island City                   61830.770625  \n",
       "SoHo-TriBeCa-Civic Center-Little Italy                     37214.024000  \n",
       "Springfield Gardens South-Brookville                       17757.662000  \n",
       "Steinway                                                   11227.155714  \n",
       "Sunset Park West                                           14316.976875  \n",
       "park-cemetery-etc-Brooklyn                                 14327.419333  "
      ]
     },
     "execution_count": 17,
     "metadata": {},
     "output_type": "execute_result"
    }
   ],
   "source": [
    "# Taking the data that only has 5 or more businesses listed.\n",
    "NTA_stats = by_NTA[by_NTA['listed_businesses']>=5]\n",
    "NTA_stats.head(20)"
   ]
  },
  {
   "cell_type": "markdown",
   "metadata": {},
   "source": [
    "## Question 5: Save your result for the previous question as a CSV file."
   ]
  },
  {
   "cell_type": "code",
   "execution_count": 18,
   "metadata": {},
   "outputs": [],
   "source": [
    "NTA_stats.to_csv('NTA_AverageSavings_TotalJobs.csv')"
   ]
  },
  {
   "cell_type": "markdown",
   "metadata": {},
   "source": [
    "# 12 Day Program: Day 5\n",
    "Visualizing the data on the Value of Energy Cost Saving Program for businesses in New York City"
   ]
  },
  {
   "cell_type": "markdown",
   "metadata": {},
   "source": [
    "## Question 1: make a scatter plot of jobs created versus average savings. Use both a standard and a logarithmic scale for the average savings."
   ]
  },
  {
   "cell_type": "code",
   "execution_count": 19,
   "metadata": {},
   "outputs": [
    {
     "data": {
      "image/png": "[encoded data removed]",
      "text/plain": [
       "<Figure size 936x648 with 1 Axes>"
      ]
     },
     "metadata": {
      "needs_background": "light"
     },
     "output_type": "display_data"
    }
   ],
   "source": [
    "# I'm assuming here that the question is asked about the data set grouped by NTA with 5 or more businesses listed.\n",
    "fig = plt.figure(figsize = (13,9))\n",
    "fs = 22\n",
    "#plt.rc('text', usetex=True)\n",
    "#plt.rc('font', family='serif')\n",
    "sns.scatterplot(data = NTA_stats, x = 'average_total_savings', y = 'total_jobs', s = 35, edgecolor = 'k', color = '#00a0b0', marker = 'D')\n",
    "plt.xlabel(r'Average Total Savings', fontsize = fs)\n",
    "plt.ylabel(r'Jobs Created', fontsize = fs)\n",
    "plt.title(r'Jobs Created vs. Average Savings', fontsize = fs)\n",
    "plt.xticks(fontsize=fs)\n",
    "plt.yticks(fontsize=fs);"
   ]
  },
  {
   "cell_type": "code",
   "execution_count": 20,
   "metadata": {},
   "outputs": [
    {
     "data": {
      "image/png": "[encoded data removed]",
      "text/plain": [
       "<Figure size 936x648 with 1 Axes>"
      ]
     },
     "metadata": {
      "needs_background": "light"
     },
     "output_type": "display_data"
    }
   ],
   "source": [
    "fig = plt.figure(figsize = (13,9))\n",
    "sns.scatterplot(data = NTA_stats, x = 'average_total_savings', y = 'total_jobs', s = 35, edgecolor = 'k', color = '#00a0b0', marker = 'D')\n",
    "plt.xscale('log')\n",
    "plt.xlabel(r'Average Total Savings', fontsize = 22)\n",
    "plt.ylabel(r'Jobs Created', fontsize = 22)\n",
    "plt.title(r'Jobs Created vs. Average Savings', fontsize = 22)\n",
    "plt.xticks(fontsize=18)\n",
    "plt.yticks(fontsize=18);"
   ]
  },
  {
   "cell_type": "markdown",
   "metadata": {},
   "source": [
    "## Question 2: create a histogram of the log of the average total savings."
   ]
  },
  {
   "cell_type": "code",
   "execution_count": 23,
   "metadata": {},
   "outputs": [
    {
     "data": {
      "image/png": "[encoded data removed]",
      "text/plain": [
       "<Figure size 936x648 with 1 Axes>"
      ]
     },
     "metadata": {
      "needs_background": "light"
     },
     "output_type": "display_data"
    }
   ],
   "source": [
    "# For the data set grouped by NTA with 5 or more businesses.\n",
    "fig = plt.figure(figsize = (13,9))\n",
    "NTA_stats['average_total_savings'].apply(lambda x: np.log10(x) if np.isfinite(np.log10(x)) else np.nan).dropna().hist(bins = 35, edgecolor = 'k', color = '#00a0b0')\n",
    "plt.title(r'Distribution of Average Total Savings: NTAs with at least 5 businesses', fontsize = fs)\n",
    "plt.xlabel(r'Log$_{10}$ of Average Total Savings', fontsize = fs)\n",
    "plt.ylabel(r'Count', fontsize = fs)\n",
    "plt.xticks(fontsize=fs)\n",
    "plt.yticks(fontsize=fs);"
   ]
  },
  {
   "cell_type": "code",
   "execution_count": 24,
   "metadata": {},
   "outputs": [
    {
     "data": {
      "image/png": "[encoded data removed]",
      "text/plain": [
       "<Figure size 936x648 with 1 Axes>"
      ]
     },
     "metadata": {
      "needs_background": "light"
     },
     "output_type": "display_data"
    }
   ],
   "source": [
    "# For the data set grouped by NTA with all businesses included.\n",
    "fig = plt.figure(figsize = (13,9))\n",
    "by_NTA['average_total_savings'].apply(lambda x: np.log10(x) if np.isfinite(np.log10(x)) else np.nan).dropna().hist(bins = 35, edgecolor = 'k', color = '#00a0b0')\n",
    "plt.title(r'Distribution of Average Total Savings', fontsize = fs)\n",
    "plt.xlabel(r'Log$_{10}$ of Average Total Savings', fontsize = fs)\n",
    "plt.ylabel(r'Count', fontsize = fs)\n",
    "plt.xticks(fontsize=fs)\n",
    "plt.yticks(fontsize=fs);"
   ]
  },
  {
   "cell_type": "markdown",
   "metadata": {},
   "source": [
    "## Question 3: create a line plot of the total jobs created for each month."
   ]
  },
  {
   "cell_type": "code",
   "execution_count": 25,
   "metadata": {},
   "outputs": [],
   "source": [
    "# Let's consider the original data. First we will convert the date column into datetime format.\n",
    "vecsp_data['Effective Date'] = pd.to_datetime(vecsp_data['Effective Date'])"
   ]
  },
  {
   "cell_type": "code",
   "execution_count": 26,
   "metadata": {},
   "outputs": [],
   "source": [
    "# Extracting month from the timestamp.\n",
    "vecsp_data['Effective Month Name'] = vecsp_data['Effective Date'].dt.month_name()\n",
    "vecsp_data['Effective Month'] = vecsp_data['Effective Date'].dt.month"
   ]
  },
  {
   "cell_type": "code",
   "execution_count": 27,
   "metadata": {},
   "outputs": [],
   "source": [
    "# Taking the columns Job Created and respective month. Since there are so many missing data points for the jobs, dropping NA, grouping by month and summing the jobs for each month.\n",
    "jobs_by_month = vecsp_data[['Job created','Effective Month','Effective Month Name']].dropna().groupby('Effective Month Name').agg(Job_created=('Job created', 'sum'),Effective_Month=('Effective Month', 'max')).reset_index()"
   ]
  },
  {
   "cell_type": "code",
   "execution_count": 28,
   "metadata": {},
   "outputs": [
    {
     "data": {
      "text/html": [
       "<div>\n",
       "<style scoped>\n",
       "    .dataframe tbody tr th:only-of-type {\n",
       "        vertical-align: middle;\n",
       "    }\n",
       "\n",
       "    .dataframe tbody tr th {\n",
       "        vertical-align: top;\n",
       "    }\n",
       "\n",
       "    .dataframe thead th {\n",
       "        text-align: right;\n",
       "    }\n",
       "</style>\n",
       "<table border=\"1\" class=\"dataframe\">\n",
       "  <thead>\n",
       "    <tr style=\"text-align: right;\">\n",
       "      <th></th>\n",
       "      <th>Effective Month Name</th>\n",
       "      <th>Job_created</th>\n",
       "      <th>Effective_Month</th>\n",
       "    </tr>\n",
       "  </thead>\n",
       "  <tbody>\n",
       "    <tr>\n",
       "      <th>0</th>\n",
       "      <td>April</td>\n",
       "      <td>2.0</td>\n",
       "      <td>4</td>\n",
       "    </tr>\n",
       "    <tr>\n",
       "      <th>1</th>\n",
       "      <td>December</td>\n",
       "      <td>10.0</td>\n",
       "      <td>12</td>\n",
       "    </tr>\n",
       "    <tr>\n",
       "      <th>2</th>\n",
       "      <td>February</td>\n",
       "      <td>27.0</td>\n",
       "      <td>2</td>\n",
       "    </tr>\n",
       "    <tr>\n",
       "      <th>3</th>\n",
       "      <td>July</td>\n",
       "      <td>20.0</td>\n",
       "      <td>7</td>\n",
       "    </tr>\n",
       "    <tr>\n",
       "      <th>4</th>\n",
       "      <td>June</td>\n",
       "      <td>63.0</td>\n",
       "      <td>6</td>\n",
       "    </tr>\n",
       "    <tr>\n",
       "      <th>5</th>\n",
       "      <td>March</td>\n",
       "      <td>20.0</td>\n",
       "      <td>3</td>\n",
       "    </tr>\n",
       "    <tr>\n",
       "      <th>6</th>\n",
       "      <td>May</td>\n",
       "      <td>2.0</td>\n",
       "      <td>5</td>\n",
       "    </tr>\n",
       "    <tr>\n",
       "      <th>7</th>\n",
       "      <td>November</td>\n",
       "      <td>5.0</td>\n",
       "      <td>11</td>\n",
       "    </tr>\n",
       "  </tbody>\n",
       "</table>\n",
       "</div>"
      ],
      "text/plain": [
       "  Effective Month Name  Job_created  Effective_Month\n",
       "0                April          2.0                4\n",
       "1             December         10.0               12\n",
       "2             February         27.0                2\n",
       "3                 July         20.0                7\n",
       "4                 June         63.0                6\n",
       "5                March         20.0                3\n",
       "6                  May          2.0                5\n",
       "7             November          5.0               11"
      ]
     },
     "execution_count": 28,
     "metadata": {},
     "output_type": "execute_result"
    }
   ],
   "source": [
    "# Checking the new data frame.\n",
    "jobs_by_month.head(10)"
   ]
  },
  {
   "cell_type": "code",
   "execution_count": 29,
   "metadata": {},
   "outputs": [],
   "source": [
    "# Now we can sort by month\n",
    "jobs_by_month.sort_values(by = ['Effective_Month'], inplace=True)"
   ]
  },
  {
   "cell_type": "code",
   "execution_count": 36,
   "metadata": {},
   "outputs": [
    {
     "ename": "AttributeError",
     "evalue": "'Line2D' object has no property 'errorbar'",
     "output_type": "error",
     "traceback": [
      "\u001b[0;31m---------------------------------------------------------------------------\u001b[0m",
      "\u001b[0;31mAttributeError\u001b[0m                            Traceback (most recent call last)",
      "\u001b[0;32m<ipython-input-36-3781f5ed8efd>\u001b[0m in \u001b[0;36m<module>\u001b[0;34m\u001b[0m\n\u001b[1;32m      1\u001b[0m \u001b[0mfig\u001b[0m \u001b[0;34m=\u001b[0m \u001b[0mplt\u001b[0m\u001b[0;34m.\u001b[0m\u001b[0mfigure\u001b[0m\u001b[0;34m(\u001b[0m\u001b[0mfigsize\u001b[0m \u001b[0;34m=\u001b[0m \u001b[0;34m(\u001b[0m\u001b[0;36m20\u001b[0m\u001b[0;34m,\u001b[0m\u001b[0;36m10\u001b[0m\u001b[0;34m)\u001b[0m\u001b[0;34m)\u001b[0m\u001b[0;34m\u001b[0m\u001b[0;34m\u001b[0m\u001b[0m\n\u001b[1;32m      2\u001b[0m sns.lineplot(data = jobs_by_month, x = 'Effective Month Name', y = 'Job_created', linewidth = 3, marker = 'D',\n\u001b[0;32m----> 3\u001b[0;31m              markersize = 10, mec = 'k', mfc = '#00a0b0', ls = '--', color = '#00a0b0',errorbar = None)\n\u001b[0m\u001b[1;32m      4\u001b[0m \u001b[0mplt\u001b[0m\u001b[0;34m.\u001b[0m\u001b[0mxlabel\u001b[0m\u001b[0;34m(\u001b[0m\u001b[0;34m'Effective Month'\u001b[0m\u001b[0;34m,\u001b[0m \u001b[0mfontsize\u001b[0m \u001b[0;34m=\u001b[0m \u001b[0mfs\u001b[0m\u001b[0;34m)\u001b[0m\u001b[0;34m\u001b[0m\u001b[0;34m\u001b[0m\u001b[0m\n\u001b[1;32m      5\u001b[0m \u001b[0mplt\u001b[0m\u001b[0;34m.\u001b[0m\u001b[0mylabel\u001b[0m\u001b[0;34m(\u001b[0m\u001b[0;34m'Number of Jobs Created'\u001b[0m\u001b[0;34m,\u001b[0m \u001b[0mfontsize\u001b[0m \u001b[0;34m=\u001b[0m \u001b[0mfs\u001b[0m\u001b[0;34m)\u001b[0m\u001b[0;34m\u001b[0m\u001b[0;34m\u001b[0m\u001b[0m\n",
      "\u001b[0;32m/opt/anaconda3/lib/python3.7/site-packages/seaborn/relational.py\u001b[0m in \u001b[0;36mlineplot\u001b[0;34m(x, y, hue, size, style, data, palette, hue_order, hue_norm, sizes, size_order, size_norm, dashes, markers, style_order, units, estimator, ci, n_boot, seed, sort, err_style, err_kws, legend, ax, **kwargs)\u001b[0m\n\u001b[1;32m   1135\u001b[0m         \u001b[0max\u001b[0m \u001b[0;34m=\u001b[0m \u001b[0mplt\u001b[0m\u001b[0;34m.\u001b[0m\u001b[0mgca\u001b[0m\u001b[0;34m(\u001b[0m\u001b[0;34m)\u001b[0m\u001b[0;34m\u001b[0m\u001b[0;34m\u001b[0m\u001b[0m\n\u001b[1;32m   1136\u001b[0m \u001b[0;34m\u001b[0m\u001b[0m\n\u001b[0;32m-> 1137\u001b[0;31m     \u001b[0mp\u001b[0m\u001b[0;34m.\u001b[0m\u001b[0mplot\u001b[0m\u001b[0;34m(\u001b[0m\u001b[0max\u001b[0m\u001b[0;34m,\u001b[0m \u001b[0mkwargs\u001b[0m\u001b[0;34m)\u001b[0m\u001b[0;34m\u001b[0m\u001b[0;34m\u001b[0m\u001b[0m\n\u001b[0m\u001b[1;32m   1138\u001b[0m     \u001b[0;32mreturn\u001b[0m \u001b[0max\u001b[0m\u001b[0;34m\u001b[0m\u001b[0;34m\u001b[0m\u001b[0m\n\u001b[1;32m   1139\u001b[0m \u001b[0;34m\u001b[0m\u001b[0m\n",
      "\u001b[0;32m/opt/anaconda3/lib/python3.7/site-packages/seaborn/relational.py\u001b[0m in \u001b[0;36mplot\u001b[0;34m(self, ax, kws)\u001b[0m\n\u001b[1;32m    777\u001b[0m         \u001b[0;31m# function will advance the axes property cycle.\u001b[0m\u001b[0;34m\u001b[0m\u001b[0;34m\u001b[0m\u001b[0;34m\u001b[0m\u001b[0m\n\u001b[1;32m    778\u001b[0m \u001b[0;34m\u001b[0m\u001b[0m\n\u001b[0;32m--> 779\u001b[0;31m         \u001b[0mscout\u001b[0m\u001b[0;34m,\u001b[0m \u001b[0;34m=\u001b[0m \u001b[0max\u001b[0m\u001b[0;34m.\u001b[0m\u001b[0mplot\u001b[0m\u001b[0;34m(\u001b[0m\u001b[0;34m[\u001b[0m\u001b[0;34m]\u001b[0m\u001b[0;34m,\u001b[0m \u001b[0;34m[\u001b[0m\u001b[0;34m]\u001b[0m\u001b[0;34m,\u001b[0m \u001b[0;34m**\u001b[0m\u001b[0mkws\u001b[0m\u001b[0;34m)\u001b[0m\u001b[0;34m\u001b[0m\u001b[0;34m\u001b[0m\u001b[0m\n\u001b[0m\u001b[1;32m    780\u001b[0m \u001b[0;34m\u001b[0m\u001b[0m\n\u001b[1;32m    781\u001b[0m         \u001b[0morig_color\u001b[0m \u001b[0;34m=\u001b[0m \u001b[0mkws\u001b[0m\u001b[0;34m.\u001b[0m\u001b[0mpop\u001b[0m\u001b[0;34m(\u001b[0m\u001b[0;34m\"color\"\u001b[0m\u001b[0;34m,\u001b[0m \u001b[0mscout\u001b[0m\u001b[0;34m.\u001b[0m\u001b[0mget_color\u001b[0m\u001b[0;34m(\u001b[0m\u001b[0;34m)\u001b[0m\u001b[0;34m)\u001b[0m\u001b[0;34m\u001b[0m\u001b[0;34m\u001b[0m\u001b[0m\n",
      "\u001b[0;32m/opt/anaconda3/lib/python3.7/site-packages/matplotlib/axes/_axes.py\u001b[0m in \u001b[0;36mplot\u001b[0;34m(self, scalex, scaley, data, *args, **kwargs)\u001b[0m\n\u001b[1;32m   1663\u001b[0m         \"\"\"\n\u001b[1;32m   1664\u001b[0m         \u001b[0mkwargs\u001b[0m \u001b[0;34m=\u001b[0m \u001b[0mcbook\u001b[0m\u001b[0;34m.\u001b[0m\u001b[0mnormalize_kwargs\u001b[0m\u001b[0;34m(\u001b[0m\u001b[0mkwargs\u001b[0m\u001b[0;34m,\u001b[0m \u001b[0mmlines\u001b[0m\u001b[0;34m.\u001b[0m\u001b[0mLine2D\u001b[0m\u001b[0;34m.\u001b[0m\u001b[0m_alias_map\u001b[0m\u001b[0;34m)\u001b[0m\u001b[0;34m\u001b[0m\u001b[0;34m\u001b[0m\u001b[0m\n\u001b[0;32m-> 1665\u001b[0;31m         \u001b[0mlines\u001b[0m \u001b[0;34m=\u001b[0m \u001b[0;34m[\u001b[0m\u001b[0;34m*\u001b[0m\u001b[0mself\u001b[0m\u001b[0;34m.\u001b[0m\u001b[0m_get_lines\u001b[0m\u001b[0;34m(\u001b[0m\u001b[0;34m*\u001b[0m\u001b[0margs\u001b[0m\u001b[0;34m,\u001b[0m \u001b[0mdata\u001b[0m\u001b[0;34m=\u001b[0m\u001b[0mdata\u001b[0m\u001b[0;34m,\u001b[0m \u001b[0;34m**\u001b[0m\u001b[0mkwargs\u001b[0m\u001b[0;34m)\u001b[0m\u001b[0;34m]\u001b[0m\u001b[0;34m\u001b[0m\u001b[0;34m\u001b[0m\u001b[0m\n\u001b[0m\u001b[1;32m   1666\u001b[0m         \u001b[0;32mfor\u001b[0m \u001b[0mline\u001b[0m \u001b[0;32min\u001b[0m \u001b[0mlines\u001b[0m\u001b[0;34m:\u001b[0m\u001b[0;34m\u001b[0m\u001b[0;34m\u001b[0m\u001b[0m\n\u001b[1;32m   1667\u001b[0m             \u001b[0mself\u001b[0m\u001b[0;34m.\u001b[0m\u001b[0madd_line\u001b[0m\u001b[0;34m(\u001b[0m\u001b[0mline\u001b[0m\u001b[0;34m)\u001b[0m\u001b[0;34m\u001b[0m\u001b[0;34m\u001b[0m\u001b[0m\n",
      "\u001b[0;32m/opt/anaconda3/lib/python3.7/site-packages/matplotlib/axes/_base.py\u001b[0m in \u001b[0;36m__call__\u001b[0;34m(self, *args, **kwargs)\u001b[0m\n\u001b[1;32m    223\u001b[0m                 \u001b[0mthis\u001b[0m \u001b[0;34m+=\u001b[0m \u001b[0margs\u001b[0m\u001b[0;34m[\u001b[0m\u001b[0;36m0\u001b[0m\u001b[0;34m]\u001b[0m\u001b[0;34m,\u001b[0m\u001b[0;34m\u001b[0m\u001b[0;34m\u001b[0m\u001b[0m\n\u001b[1;32m    224\u001b[0m                 \u001b[0margs\u001b[0m \u001b[0;34m=\u001b[0m \u001b[0margs\u001b[0m\u001b[0;34m[\u001b[0m\u001b[0;36m1\u001b[0m\u001b[0;34m:\u001b[0m\u001b[0;34m]\u001b[0m\u001b[0;34m\u001b[0m\u001b[0;34m\u001b[0m\u001b[0m\n\u001b[0;32m--> 225\u001b[0;31m             \u001b[0;32myield\u001b[0m \u001b[0;32mfrom\u001b[0m \u001b[0mself\u001b[0m\u001b[0;34m.\u001b[0m\u001b[0m_plot_args\u001b[0m\u001b[0;34m(\u001b[0m\u001b[0mthis\u001b[0m\u001b[0;34m,\u001b[0m \u001b[0mkwargs\u001b[0m\u001b[0;34m)\u001b[0m\u001b[0;34m\u001b[0m\u001b[0;34m\u001b[0m\u001b[0m\n\u001b[0m\u001b[1;32m    226\u001b[0m \u001b[0;34m\u001b[0m\u001b[0m\n\u001b[1;32m    227\u001b[0m     \u001b[0;32mdef\u001b[0m \u001b[0mget_next_color\u001b[0m\u001b[0;34m(\u001b[0m\u001b[0mself\u001b[0m\u001b[0;34m)\u001b[0m\u001b[0;34m:\u001b[0m\u001b[0;34m\u001b[0m\u001b[0;34m\u001b[0m\u001b[0m\n",
      "\u001b[0;32m/opt/anaconda3/lib/python3.7/site-packages/matplotlib/axes/_base.py\u001b[0m in \u001b[0;36m_plot_args\u001b[0;34m(self, tup, kwargs)\u001b[0m\n\u001b[1;32m    403\u001b[0m                 \"non-matching shapes is deprecated.\")\n\u001b[1;32m    404\u001b[0m         \u001b[0;32mfor\u001b[0m \u001b[0mj\u001b[0m \u001b[0;32min\u001b[0m \u001b[0mrange\u001b[0m\u001b[0;34m(\u001b[0m\u001b[0mmax\u001b[0m\u001b[0;34m(\u001b[0m\u001b[0mncx\u001b[0m\u001b[0;34m,\u001b[0m \u001b[0mncy\u001b[0m\u001b[0;34m)\u001b[0m\u001b[0;34m)\u001b[0m\u001b[0;34m:\u001b[0m\u001b[0;34m\u001b[0m\u001b[0;34m\u001b[0m\u001b[0m\n\u001b[0;32m--> 405\u001b[0;31m             \u001b[0mseg\u001b[0m \u001b[0;34m=\u001b[0m \u001b[0mfunc\u001b[0m\u001b[0;34m(\u001b[0m\u001b[0mx\u001b[0m\u001b[0;34m[\u001b[0m\u001b[0;34m:\u001b[0m\u001b[0;34m,\u001b[0m \u001b[0mj\u001b[0m \u001b[0;34m%\u001b[0m \u001b[0mncx\u001b[0m\u001b[0;34m]\u001b[0m\u001b[0;34m,\u001b[0m \u001b[0my\u001b[0m\u001b[0;34m[\u001b[0m\u001b[0;34m:\u001b[0m\u001b[0;34m,\u001b[0m \u001b[0mj\u001b[0m \u001b[0;34m%\u001b[0m \u001b[0mncy\u001b[0m\u001b[0;34m]\u001b[0m\u001b[0;34m,\u001b[0m \u001b[0mkw\u001b[0m\u001b[0;34m,\u001b[0m \u001b[0mkwargs\u001b[0m\u001b[0;34m)\u001b[0m\u001b[0;34m\u001b[0m\u001b[0;34m\u001b[0m\u001b[0m\n\u001b[0m\u001b[1;32m    406\u001b[0m             \u001b[0mret\u001b[0m\u001b[0;34m.\u001b[0m\u001b[0mappend\u001b[0m\u001b[0;34m(\u001b[0m\u001b[0mseg\u001b[0m\u001b[0;34m)\u001b[0m\u001b[0;34m\u001b[0m\u001b[0;34m\u001b[0m\u001b[0m\n\u001b[1;32m    407\u001b[0m         \u001b[0;32mreturn\u001b[0m \u001b[0mret\u001b[0m\u001b[0;34m\u001b[0m\u001b[0;34m\u001b[0m\u001b[0m\n",
      "\u001b[0;32m/opt/anaconda3/lib/python3.7/site-packages/matplotlib/axes/_base.py\u001b[0m in \u001b[0;36m_makeline\u001b[0;34m(self, x, y, kw, kwargs)\u001b[0m\n\u001b[1;32m    310\u001b[0m         \u001b[0mdefault_dict\u001b[0m \u001b[0;34m=\u001b[0m \u001b[0mself\u001b[0m\u001b[0;34m.\u001b[0m\u001b[0m_getdefaults\u001b[0m\u001b[0;34m(\u001b[0m\u001b[0mset\u001b[0m\u001b[0;34m(\u001b[0m\u001b[0;34m)\u001b[0m\u001b[0;34m,\u001b[0m \u001b[0mkw\u001b[0m\u001b[0;34m)\u001b[0m\u001b[0;34m\u001b[0m\u001b[0;34m\u001b[0m\u001b[0m\n\u001b[1;32m    311\u001b[0m         \u001b[0mself\u001b[0m\u001b[0;34m.\u001b[0m\u001b[0m_setdefaults\u001b[0m\u001b[0;34m(\u001b[0m\u001b[0mdefault_dict\u001b[0m\u001b[0;34m,\u001b[0m \u001b[0mkw\u001b[0m\u001b[0;34m)\u001b[0m\u001b[0;34m\u001b[0m\u001b[0;34m\u001b[0m\u001b[0m\n\u001b[0;32m--> 312\u001b[0;31m         \u001b[0mseg\u001b[0m \u001b[0;34m=\u001b[0m \u001b[0mmlines\u001b[0m\u001b[0;34m.\u001b[0m\u001b[0mLine2D\u001b[0m\u001b[0;34m(\u001b[0m\u001b[0mx\u001b[0m\u001b[0;34m,\u001b[0m \u001b[0my\u001b[0m\u001b[0;34m,\u001b[0m \u001b[0;34m**\u001b[0m\u001b[0mkw\u001b[0m\u001b[0;34m)\u001b[0m\u001b[0;34m\u001b[0m\u001b[0;34m\u001b[0m\u001b[0m\n\u001b[0m\u001b[1;32m    313\u001b[0m         \u001b[0;32mreturn\u001b[0m \u001b[0mseg\u001b[0m\u001b[0;34m\u001b[0m\u001b[0;34m\u001b[0m\u001b[0m\n\u001b[1;32m    314\u001b[0m \u001b[0;34m\u001b[0m\u001b[0m\n",
      "\u001b[0;32m/opt/anaconda3/lib/python3.7/site-packages/matplotlib/lines.py\u001b[0m in \u001b[0;36m__init__\u001b[0;34m(self, xdata, ydata, linewidth, linestyle, color, marker, markersize, markeredgewidth, markeredgecolor, markerfacecolor, markerfacecoloralt, fillstyle, antialiased, dash_capstyle, solid_capstyle, dash_joinstyle, solid_joinstyle, pickradius, drawstyle, markevery, **kwargs)\u001b[0m\n\u001b[1;32m    402\u001b[0m         \u001b[0;31m# update kwargs before updating data to give the caller a\u001b[0m\u001b[0;34m\u001b[0m\u001b[0;34m\u001b[0m\u001b[0;34m\u001b[0m\u001b[0m\n\u001b[1;32m    403\u001b[0m         \u001b[0;31m# chance to init axes (and hence unit support)\u001b[0m\u001b[0;34m\u001b[0m\u001b[0;34m\u001b[0m\u001b[0;34m\u001b[0m\u001b[0m\n\u001b[0;32m--> 404\u001b[0;31m         \u001b[0mself\u001b[0m\u001b[0;34m.\u001b[0m\u001b[0mupdate\u001b[0m\u001b[0;34m(\u001b[0m\u001b[0mkwargs\u001b[0m\u001b[0;34m)\u001b[0m\u001b[0;34m\u001b[0m\u001b[0;34m\u001b[0m\u001b[0m\n\u001b[0m\u001b[1;32m    405\u001b[0m         \u001b[0mself\u001b[0m\u001b[0;34m.\u001b[0m\u001b[0mpickradius\u001b[0m \u001b[0;34m=\u001b[0m \u001b[0mpickradius\u001b[0m\u001b[0;34m\u001b[0m\u001b[0;34m\u001b[0m\u001b[0m\n\u001b[1;32m    406\u001b[0m         \u001b[0mself\u001b[0m\u001b[0;34m.\u001b[0m\u001b[0mind_offset\u001b[0m \u001b[0;34m=\u001b[0m \u001b[0;36m0\u001b[0m\u001b[0;34m\u001b[0m\u001b[0;34m\u001b[0m\u001b[0m\n",
      "\u001b[0;32m/opt/anaconda3/lib/python3.7/site-packages/matplotlib/artist.py\u001b[0m in \u001b[0;36mupdate\u001b[0;34m(self, props)\u001b[0m\n\u001b[1;32m    972\u001b[0m \u001b[0;34m\u001b[0m\u001b[0m\n\u001b[1;32m    973\u001b[0m         \u001b[0;32mwith\u001b[0m \u001b[0mcbook\u001b[0m\u001b[0;34m.\u001b[0m\u001b[0m_setattr_cm\u001b[0m\u001b[0;34m(\u001b[0m\u001b[0mself\u001b[0m\u001b[0;34m,\u001b[0m \u001b[0meventson\u001b[0m\u001b[0;34m=\u001b[0m\u001b[0;32mFalse\u001b[0m\u001b[0;34m)\u001b[0m\u001b[0;34m:\u001b[0m\u001b[0;34m\u001b[0m\u001b[0;34m\u001b[0m\u001b[0m\n\u001b[0;32m--> 974\u001b[0;31m             \u001b[0mret\u001b[0m \u001b[0;34m=\u001b[0m \u001b[0;34m[\u001b[0m\u001b[0m_update_property\u001b[0m\u001b[0;34m(\u001b[0m\u001b[0mself\u001b[0m\u001b[0;34m,\u001b[0m \u001b[0mk\u001b[0m\u001b[0;34m,\u001b[0m \u001b[0mv\u001b[0m\u001b[0;34m)\u001b[0m \u001b[0;32mfor\u001b[0m \u001b[0mk\u001b[0m\u001b[0;34m,\u001b[0m \u001b[0mv\u001b[0m \u001b[0;32min\u001b[0m \u001b[0mprops\u001b[0m\u001b[0;34m.\u001b[0m\u001b[0mitems\u001b[0m\u001b[0;34m(\u001b[0m\u001b[0;34m)\u001b[0m\u001b[0;34m]\u001b[0m\u001b[0;34m\u001b[0m\u001b[0;34m\u001b[0m\u001b[0m\n\u001b[0m\u001b[1;32m    975\u001b[0m \u001b[0;34m\u001b[0m\u001b[0m\n\u001b[1;32m    976\u001b[0m         \u001b[0;32mif\u001b[0m \u001b[0mlen\u001b[0m\u001b[0;34m(\u001b[0m\u001b[0mret\u001b[0m\u001b[0;34m)\u001b[0m\u001b[0;34m:\u001b[0m\u001b[0;34m\u001b[0m\u001b[0;34m\u001b[0m\u001b[0m\n",
      "\u001b[0;32m/opt/anaconda3/lib/python3.7/site-packages/matplotlib/artist.py\u001b[0m in \u001b[0;36m<listcomp>\u001b[0;34m(.0)\u001b[0m\n\u001b[1;32m    972\u001b[0m \u001b[0;34m\u001b[0m\u001b[0m\n\u001b[1;32m    973\u001b[0m         \u001b[0;32mwith\u001b[0m \u001b[0mcbook\u001b[0m\u001b[0;34m.\u001b[0m\u001b[0m_setattr_cm\u001b[0m\u001b[0;34m(\u001b[0m\u001b[0mself\u001b[0m\u001b[0;34m,\u001b[0m \u001b[0meventson\u001b[0m\u001b[0;34m=\u001b[0m\u001b[0;32mFalse\u001b[0m\u001b[0;34m)\u001b[0m\u001b[0;34m:\u001b[0m\u001b[0;34m\u001b[0m\u001b[0;34m\u001b[0m\u001b[0m\n\u001b[0;32m--> 974\u001b[0;31m             \u001b[0mret\u001b[0m \u001b[0;34m=\u001b[0m \u001b[0;34m[\u001b[0m\u001b[0m_update_property\u001b[0m\u001b[0;34m(\u001b[0m\u001b[0mself\u001b[0m\u001b[0;34m,\u001b[0m \u001b[0mk\u001b[0m\u001b[0;34m,\u001b[0m \u001b[0mv\u001b[0m\u001b[0;34m)\u001b[0m \u001b[0;32mfor\u001b[0m \u001b[0mk\u001b[0m\u001b[0;34m,\u001b[0m \u001b[0mv\u001b[0m \u001b[0;32min\u001b[0m \u001b[0mprops\u001b[0m\u001b[0;34m.\u001b[0m\u001b[0mitems\u001b[0m\u001b[0;34m(\u001b[0m\u001b[0;34m)\u001b[0m\u001b[0;34m]\u001b[0m\u001b[0;34m\u001b[0m\u001b[0;34m\u001b[0m\u001b[0m\n\u001b[0m\u001b[1;32m    975\u001b[0m \u001b[0;34m\u001b[0m\u001b[0m\n\u001b[1;32m    976\u001b[0m         \u001b[0;32mif\u001b[0m \u001b[0mlen\u001b[0m\u001b[0;34m(\u001b[0m\u001b[0mret\u001b[0m\u001b[0;34m)\u001b[0m\u001b[0;34m:\u001b[0m\u001b[0;34m\u001b[0m\u001b[0;34m\u001b[0m\u001b[0m\n",
      "\u001b[0;32m/opt/anaconda3/lib/python3.7/site-packages/matplotlib/artist.py\u001b[0m in \u001b[0;36m_update_property\u001b[0;34m(self, k, v)\u001b[0m\n\u001b[1;32m    968\u001b[0m                 \u001b[0;32mif\u001b[0m \u001b[0;32mnot\u001b[0m \u001b[0mcallable\u001b[0m\u001b[0;34m(\u001b[0m\u001b[0mfunc\u001b[0m\u001b[0;34m)\u001b[0m\u001b[0;34m:\u001b[0m\u001b[0;34m\u001b[0m\u001b[0;34m\u001b[0m\u001b[0m\n\u001b[1;32m    969\u001b[0m                     raise AttributeError('{!r} object has no property {!r}'\n\u001b[0;32m--> 970\u001b[0;31m                                          .format(type(self).__name__, k))\n\u001b[0m\u001b[1;32m    971\u001b[0m                 \u001b[0;32mreturn\u001b[0m \u001b[0mfunc\u001b[0m\u001b[0;34m(\u001b[0m\u001b[0mv\u001b[0m\u001b[0;34m)\u001b[0m\u001b[0;34m\u001b[0m\u001b[0;34m\u001b[0m\u001b[0m\n\u001b[1;32m    972\u001b[0m \u001b[0;34m\u001b[0m\u001b[0m\n",
      "\u001b[0;31mAttributeError\u001b[0m: 'Line2D' object has no property 'errorbar'"
     ]
    },
    {
     "data": {
      "image/png": "[encoded data removed]",
      "text/plain": [
       "<Figure size 1440x720 with 1 Axes>"
      ]
     },
     "metadata": {
      "needs_background": "light"
     },
     "output_type": "display_data"
    }
   ],
   "source": [
    "fig = plt.figure(figsize = (20,10))\n",
    "sns.lineplot(data = jobs_by_month, x = 'Effective Month Name', y = 'Job_created', linewidth = 3, marker = 'D',\n",
    "             markersize = 10, mec = 'k', mfc = '#00a0b0', ls = '--', color = '#00a0b0',errorbar = None)\n",
    "plt.xlabel('Effective Month', fontsize = fs)\n",
    "plt.ylabel('Number of Jobs Created', fontsize = fs)\n",
    "plt.title(r'Number of Jobs Created vs. Effective Month', fontsize = fs)\n",
    "plt.xticks(fontsize=fs)\n",
    "plt.yticks(fontsize=fs)\n",
    "plt.ylim(0, 70);"
   ]
  },
  {
   "cell_type": "code",
   "execution_count": 32,
   "metadata": {},
   "outputs": [
    {
     "data": {
      "text/plain": [
       "array(['Battery Park City-Lower Manhattan', 'Bushwick South',\n",
       "       'Carroll Gardens-Columbia Street-Red Hook', 'College Point',\n",
       "       'Crown Heights North',\n",
       "       'DUMBO-Vinegar Hill-Downtown Brooklyn-Boerum Hill',\n",
       "       'East New York', 'East Williamsburg', 'Greenpoint',\n",
       "       'Hunters Point-Sunnyside-West Maspeth', 'Hunts Point',\n",
       "       'Manhattanville', 'Maspeth', 'Mott Haven-Port Morris',\n",
       "       'Queensbridge-Ravenswood-Long Island City',\n",
       "       'SoHo-TriBeCa-Civic Center-Little Italy',\n",
       "       'Springfield Gardens South-Brookville', 'Steinway',\n",
       "       'Sunset Park West', 'park-cemetery-etc-Brooklyn'], dtype=object)"
      ]
     },
     "execution_count": 32,
     "metadata": {},
     "output_type": "execute_result"
    }
   ],
   "source": [
    "# If we only want to include the data for the NTAs with over 5 businesses listed, first, retrieve these NTAs.\n",
    "NTAs_over_5_listings = NTA_stats.reset_index()['NTA'].values\n",
    "NTAs_over_5_listings"
   ]
  },
  {
   "cell_type": "code",
   "execution_count": 33,
   "metadata": {},
   "outputs": [],
   "source": [
    "# Filter the overall data by these NTAs, and repeat the procedure from before: grab the necessary columns and group by month.\n",
    "jobs_by_month_over_5_listings = vecsp_data[vecsp_data['NTA'].isin(NTAs_over_5_listings)][['Job created','Effective Month','Effective Month Name']].dropna().groupby('Effective Month Name').agg(Job_created=('Job created', 'sum'),Effective_Month=('Effective Month', 'max')).reset_index()"
   ]
  },
  {
   "cell_type": "code",
   "execution_count": 34,
   "metadata": {},
   "outputs": [],
   "source": [
    "# Sorting by month.\n",
    "jobs_by_month_over_5_listings.sort_values(by = ['Effective_Month'], inplace=True)"
   ]
  },
  {
   "cell_type": "code",
   "execution_count": 35,
   "metadata": {},
   "outputs": [
    {
     "ename": "AttributeError",
     "evalue": "'Line2D' object has no property 'errorbar'",
     "output_type": "error",
     "traceback": [
      "\u001b[0;31m---------------------------------------------------------------------------\u001b[0m",
      "\u001b[0;31mAttributeError\u001b[0m                            Traceback (most recent call last)",
      "\u001b[0;32m<ipython-input-35-376ccbc3bcf0>\u001b[0m in \u001b[0;36m<module>\u001b[0;34m\u001b[0m\n\u001b[1;32m      1\u001b[0m \u001b[0mfig\u001b[0m \u001b[0;34m=\u001b[0m \u001b[0mplt\u001b[0m\u001b[0;34m.\u001b[0m\u001b[0mfigure\u001b[0m\u001b[0;34m(\u001b[0m\u001b[0mfigsize\u001b[0m \u001b[0;34m=\u001b[0m \u001b[0;34m(\u001b[0m\u001b[0;36m20\u001b[0m\u001b[0;34m,\u001b[0m\u001b[0;36m10\u001b[0m\u001b[0;34m)\u001b[0m\u001b[0;34m)\u001b[0m\u001b[0;34m\u001b[0m\u001b[0;34m\u001b[0m\u001b[0m\n\u001b[1;32m      2\u001b[0m sns.lineplot(data = jobs_by_month_over_5_listings, x = 'Effective Month Name', y = 'Job_created', linewidth = 3, errorbar = None, marker = 'D',\n\u001b[0;32m----> 3\u001b[0;31m              markersize = 10, mec = 'k', mfc = '#00a0b0', ls = '--', color = '#00a0b0')\n\u001b[0m\u001b[1;32m      4\u001b[0m \u001b[0mplt\u001b[0m\u001b[0;34m.\u001b[0m\u001b[0mxlabel\u001b[0m\u001b[0;34m(\u001b[0m\u001b[0;34m'Effective Month'\u001b[0m\u001b[0;34m,\u001b[0m \u001b[0mfontsize\u001b[0m \u001b[0;34m=\u001b[0m \u001b[0mfs\u001b[0m\u001b[0;34m)\u001b[0m\u001b[0;34m\u001b[0m\u001b[0;34m\u001b[0m\u001b[0m\n\u001b[1;32m      5\u001b[0m \u001b[0mplt\u001b[0m\u001b[0;34m.\u001b[0m\u001b[0mylabel\u001b[0m\u001b[0;34m(\u001b[0m\u001b[0;34m'Number of Jobs Created'\u001b[0m\u001b[0;34m,\u001b[0m \u001b[0mfontsize\u001b[0m \u001b[0;34m=\u001b[0m \u001b[0mfs\u001b[0m\u001b[0;34m)\u001b[0m\u001b[0;34m\u001b[0m\u001b[0;34m\u001b[0m\u001b[0m\n",
      "\u001b[0;32m/opt/anaconda3/lib/python3.7/site-packages/seaborn/relational.py\u001b[0m in \u001b[0;36mlineplot\u001b[0;34m(x, y, hue, size, style, data, palette, hue_order, hue_norm, sizes, size_order, size_norm, dashes, markers, style_order, units, estimator, ci, n_boot, seed, sort, err_style, err_kws, legend, ax, **kwargs)\u001b[0m\n\u001b[1;32m   1135\u001b[0m         \u001b[0max\u001b[0m \u001b[0;34m=\u001b[0m \u001b[0mplt\u001b[0m\u001b[0;34m.\u001b[0m\u001b[0mgca\u001b[0m\u001b[0;34m(\u001b[0m\u001b[0;34m)\u001b[0m\u001b[0;34m\u001b[0m\u001b[0;34m\u001b[0m\u001b[0m\n\u001b[1;32m   1136\u001b[0m \u001b[0;34m\u001b[0m\u001b[0m\n\u001b[0;32m-> 1137\u001b[0;31m     \u001b[0mp\u001b[0m\u001b[0;34m.\u001b[0m\u001b[0mplot\u001b[0m\u001b[0;34m(\u001b[0m\u001b[0max\u001b[0m\u001b[0;34m,\u001b[0m \u001b[0mkwargs\u001b[0m\u001b[0;34m)\u001b[0m\u001b[0;34m\u001b[0m\u001b[0;34m\u001b[0m\u001b[0m\n\u001b[0m\u001b[1;32m   1138\u001b[0m     \u001b[0;32mreturn\u001b[0m \u001b[0max\u001b[0m\u001b[0;34m\u001b[0m\u001b[0;34m\u001b[0m\u001b[0m\n\u001b[1;32m   1139\u001b[0m \u001b[0;34m\u001b[0m\u001b[0m\n",
      "\u001b[0;32m/opt/anaconda3/lib/python3.7/site-packages/seaborn/relational.py\u001b[0m in \u001b[0;36mplot\u001b[0;34m(self, ax, kws)\u001b[0m\n\u001b[1;32m    777\u001b[0m         \u001b[0;31m# function will advance the axes property cycle.\u001b[0m\u001b[0;34m\u001b[0m\u001b[0;34m\u001b[0m\u001b[0;34m\u001b[0m\u001b[0m\n\u001b[1;32m    778\u001b[0m \u001b[0;34m\u001b[0m\u001b[0m\n\u001b[0;32m--> 779\u001b[0;31m         \u001b[0mscout\u001b[0m\u001b[0;34m,\u001b[0m \u001b[0;34m=\u001b[0m \u001b[0max\u001b[0m\u001b[0;34m.\u001b[0m\u001b[0mplot\u001b[0m\u001b[0;34m(\u001b[0m\u001b[0;34m[\u001b[0m\u001b[0;34m]\u001b[0m\u001b[0;34m,\u001b[0m \u001b[0;34m[\u001b[0m\u001b[0;34m]\u001b[0m\u001b[0;34m,\u001b[0m \u001b[0;34m**\u001b[0m\u001b[0mkws\u001b[0m\u001b[0;34m)\u001b[0m\u001b[0;34m\u001b[0m\u001b[0;34m\u001b[0m\u001b[0m\n\u001b[0m\u001b[1;32m    780\u001b[0m \u001b[0;34m\u001b[0m\u001b[0m\n\u001b[1;32m    781\u001b[0m         \u001b[0morig_color\u001b[0m \u001b[0;34m=\u001b[0m \u001b[0mkws\u001b[0m\u001b[0;34m.\u001b[0m\u001b[0mpop\u001b[0m\u001b[0;34m(\u001b[0m\u001b[0;34m\"color\"\u001b[0m\u001b[0;34m,\u001b[0m \u001b[0mscout\u001b[0m\u001b[0;34m.\u001b[0m\u001b[0mget_color\u001b[0m\u001b[0;34m(\u001b[0m\u001b[0;34m)\u001b[0m\u001b[0;34m)\u001b[0m\u001b[0;34m\u001b[0m\u001b[0;34m\u001b[0m\u001b[0m\n",
      "\u001b[0;32m/opt/anaconda3/lib/python3.7/site-packages/matplotlib/axes/_axes.py\u001b[0m in \u001b[0;36mplot\u001b[0;34m(self, scalex, scaley, data, *args, **kwargs)\u001b[0m\n\u001b[1;32m   1663\u001b[0m         \"\"\"\n\u001b[1;32m   1664\u001b[0m         \u001b[0mkwargs\u001b[0m \u001b[0;34m=\u001b[0m \u001b[0mcbook\u001b[0m\u001b[0;34m.\u001b[0m\u001b[0mnormalize_kwargs\u001b[0m\u001b[0;34m(\u001b[0m\u001b[0mkwargs\u001b[0m\u001b[0;34m,\u001b[0m \u001b[0mmlines\u001b[0m\u001b[0;34m.\u001b[0m\u001b[0mLine2D\u001b[0m\u001b[0;34m.\u001b[0m\u001b[0m_alias_map\u001b[0m\u001b[0;34m)\u001b[0m\u001b[0;34m\u001b[0m\u001b[0;34m\u001b[0m\u001b[0m\n\u001b[0;32m-> 1665\u001b[0;31m         \u001b[0mlines\u001b[0m \u001b[0;34m=\u001b[0m \u001b[0;34m[\u001b[0m\u001b[0;34m*\u001b[0m\u001b[0mself\u001b[0m\u001b[0;34m.\u001b[0m\u001b[0m_get_lines\u001b[0m\u001b[0;34m(\u001b[0m\u001b[0;34m*\u001b[0m\u001b[0margs\u001b[0m\u001b[0;34m,\u001b[0m \u001b[0mdata\u001b[0m\u001b[0;34m=\u001b[0m\u001b[0mdata\u001b[0m\u001b[0;34m,\u001b[0m \u001b[0;34m**\u001b[0m\u001b[0mkwargs\u001b[0m\u001b[0;34m)\u001b[0m\u001b[0;34m]\u001b[0m\u001b[0;34m\u001b[0m\u001b[0;34m\u001b[0m\u001b[0m\n\u001b[0m\u001b[1;32m   1666\u001b[0m         \u001b[0;32mfor\u001b[0m \u001b[0mline\u001b[0m \u001b[0;32min\u001b[0m \u001b[0mlines\u001b[0m\u001b[0;34m:\u001b[0m\u001b[0;34m\u001b[0m\u001b[0;34m\u001b[0m\u001b[0m\n\u001b[1;32m   1667\u001b[0m             \u001b[0mself\u001b[0m\u001b[0;34m.\u001b[0m\u001b[0madd_line\u001b[0m\u001b[0;34m(\u001b[0m\u001b[0mline\u001b[0m\u001b[0;34m)\u001b[0m\u001b[0;34m\u001b[0m\u001b[0;34m\u001b[0m\u001b[0m\n",
      "\u001b[0;32m/opt/anaconda3/lib/python3.7/site-packages/matplotlib/axes/_base.py\u001b[0m in \u001b[0;36m__call__\u001b[0;34m(self, *args, **kwargs)\u001b[0m\n\u001b[1;32m    223\u001b[0m                 \u001b[0mthis\u001b[0m \u001b[0;34m+=\u001b[0m \u001b[0margs\u001b[0m\u001b[0;34m[\u001b[0m\u001b[0;36m0\u001b[0m\u001b[0;34m]\u001b[0m\u001b[0;34m,\u001b[0m\u001b[0;34m\u001b[0m\u001b[0;34m\u001b[0m\u001b[0m\n\u001b[1;32m    224\u001b[0m                 \u001b[0margs\u001b[0m \u001b[0;34m=\u001b[0m \u001b[0margs\u001b[0m\u001b[0;34m[\u001b[0m\u001b[0;36m1\u001b[0m\u001b[0;34m:\u001b[0m\u001b[0;34m]\u001b[0m\u001b[0;34m\u001b[0m\u001b[0;34m\u001b[0m\u001b[0m\n\u001b[0;32m--> 225\u001b[0;31m             \u001b[0;32myield\u001b[0m \u001b[0;32mfrom\u001b[0m \u001b[0mself\u001b[0m\u001b[0;34m.\u001b[0m\u001b[0m_plot_args\u001b[0m\u001b[0;34m(\u001b[0m\u001b[0mthis\u001b[0m\u001b[0;34m,\u001b[0m \u001b[0mkwargs\u001b[0m\u001b[0;34m)\u001b[0m\u001b[0;34m\u001b[0m\u001b[0;34m\u001b[0m\u001b[0m\n\u001b[0m\u001b[1;32m    226\u001b[0m \u001b[0;34m\u001b[0m\u001b[0m\n\u001b[1;32m    227\u001b[0m     \u001b[0;32mdef\u001b[0m \u001b[0mget_next_color\u001b[0m\u001b[0;34m(\u001b[0m\u001b[0mself\u001b[0m\u001b[0;34m)\u001b[0m\u001b[0;34m:\u001b[0m\u001b[0;34m\u001b[0m\u001b[0;34m\u001b[0m\u001b[0m\n",
      "\u001b[0;32m/opt/anaconda3/lib/python3.7/site-packages/matplotlib/axes/_base.py\u001b[0m in \u001b[0;36m_plot_args\u001b[0;34m(self, tup, kwargs)\u001b[0m\n\u001b[1;32m    403\u001b[0m                 \"non-matching shapes is deprecated.\")\n\u001b[1;32m    404\u001b[0m         \u001b[0;32mfor\u001b[0m \u001b[0mj\u001b[0m \u001b[0;32min\u001b[0m \u001b[0mrange\u001b[0m\u001b[0;34m(\u001b[0m\u001b[0mmax\u001b[0m\u001b[0;34m(\u001b[0m\u001b[0mncx\u001b[0m\u001b[0;34m,\u001b[0m \u001b[0mncy\u001b[0m\u001b[0;34m)\u001b[0m\u001b[0;34m)\u001b[0m\u001b[0;34m:\u001b[0m\u001b[0;34m\u001b[0m\u001b[0;34m\u001b[0m\u001b[0m\n\u001b[0;32m--> 405\u001b[0;31m             \u001b[0mseg\u001b[0m \u001b[0;34m=\u001b[0m \u001b[0mfunc\u001b[0m\u001b[0;34m(\u001b[0m\u001b[0mx\u001b[0m\u001b[0;34m[\u001b[0m\u001b[0;34m:\u001b[0m\u001b[0;34m,\u001b[0m \u001b[0mj\u001b[0m \u001b[0;34m%\u001b[0m \u001b[0mncx\u001b[0m\u001b[0;34m]\u001b[0m\u001b[0;34m,\u001b[0m \u001b[0my\u001b[0m\u001b[0;34m[\u001b[0m\u001b[0;34m:\u001b[0m\u001b[0;34m,\u001b[0m \u001b[0mj\u001b[0m \u001b[0;34m%\u001b[0m \u001b[0mncy\u001b[0m\u001b[0;34m]\u001b[0m\u001b[0;34m,\u001b[0m \u001b[0mkw\u001b[0m\u001b[0;34m,\u001b[0m \u001b[0mkwargs\u001b[0m\u001b[0;34m)\u001b[0m\u001b[0;34m\u001b[0m\u001b[0;34m\u001b[0m\u001b[0m\n\u001b[0m\u001b[1;32m    406\u001b[0m             \u001b[0mret\u001b[0m\u001b[0;34m.\u001b[0m\u001b[0mappend\u001b[0m\u001b[0;34m(\u001b[0m\u001b[0mseg\u001b[0m\u001b[0;34m)\u001b[0m\u001b[0;34m\u001b[0m\u001b[0;34m\u001b[0m\u001b[0m\n\u001b[1;32m    407\u001b[0m         \u001b[0;32mreturn\u001b[0m \u001b[0mret\u001b[0m\u001b[0;34m\u001b[0m\u001b[0;34m\u001b[0m\u001b[0m\n",
      "\u001b[0;32m/opt/anaconda3/lib/python3.7/site-packages/matplotlib/axes/_base.py\u001b[0m in \u001b[0;36m_makeline\u001b[0;34m(self, x, y, kw, kwargs)\u001b[0m\n\u001b[1;32m    310\u001b[0m         \u001b[0mdefault_dict\u001b[0m \u001b[0;34m=\u001b[0m \u001b[0mself\u001b[0m\u001b[0;34m.\u001b[0m\u001b[0m_getdefaults\u001b[0m\u001b[0;34m(\u001b[0m\u001b[0mset\u001b[0m\u001b[0;34m(\u001b[0m\u001b[0;34m)\u001b[0m\u001b[0;34m,\u001b[0m \u001b[0mkw\u001b[0m\u001b[0;34m)\u001b[0m\u001b[0;34m\u001b[0m\u001b[0;34m\u001b[0m\u001b[0m\n\u001b[1;32m    311\u001b[0m         \u001b[0mself\u001b[0m\u001b[0;34m.\u001b[0m\u001b[0m_setdefaults\u001b[0m\u001b[0;34m(\u001b[0m\u001b[0mdefault_dict\u001b[0m\u001b[0;34m,\u001b[0m \u001b[0mkw\u001b[0m\u001b[0;34m)\u001b[0m\u001b[0;34m\u001b[0m\u001b[0;34m\u001b[0m\u001b[0m\n\u001b[0;32m--> 312\u001b[0;31m         \u001b[0mseg\u001b[0m \u001b[0;34m=\u001b[0m \u001b[0mmlines\u001b[0m\u001b[0;34m.\u001b[0m\u001b[0mLine2D\u001b[0m\u001b[0;34m(\u001b[0m\u001b[0mx\u001b[0m\u001b[0;34m,\u001b[0m \u001b[0my\u001b[0m\u001b[0;34m,\u001b[0m \u001b[0;34m**\u001b[0m\u001b[0mkw\u001b[0m\u001b[0;34m)\u001b[0m\u001b[0;34m\u001b[0m\u001b[0;34m\u001b[0m\u001b[0m\n\u001b[0m\u001b[1;32m    313\u001b[0m         \u001b[0;32mreturn\u001b[0m \u001b[0mseg\u001b[0m\u001b[0;34m\u001b[0m\u001b[0;34m\u001b[0m\u001b[0m\n\u001b[1;32m    314\u001b[0m \u001b[0;34m\u001b[0m\u001b[0m\n",
      "\u001b[0;32m/opt/anaconda3/lib/python3.7/site-packages/matplotlib/lines.py\u001b[0m in \u001b[0;36m__init__\u001b[0;34m(self, xdata, ydata, linewidth, linestyle, color, marker, markersize, markeredgewidth, markeredgecolor, markerfacecolor, markerfacecoloralt, fillstyle, antialiased, dash_capstyle, solid_capstyle, dash_joinstyle, solid_joinstyle, pickradius, drawstyle, markevery, **kwargs)\u001b[0m\n\u001b[1;32m    402\u001b[0m         \u001b[0;31m# update kwargs before updating data to give the caller a\u001b[0m\u001b[0;34m\u001b[0m\u001b[0;34m\u001b[0m\u001b[0;34m\u001b[0m\u001b[0m\n\u001b[1;32m    403\u001b[0m         \u001b[0;31m# chance to init axes (and hence unit support)\u001b[0m\u001b[0;34m\u001b[0m\u001b[0;34m\u001b[0m\u001b[0;34m\u001b[0m\u001b[0m\n\u001b[0;32m--> 404\u001b[0;31m         \u001b[0mself\u001b[0m\u001b[0;34m.\u001b[0m\u001b[0mupdate\u001b[0m\u001b[0;34m(\u001b[0m\u001b[0mkwargs\u001b[0m\u001b[0;34m)\u001b[0m\u001b[0;34m\u001b[0m\u001b[0;34m\u001b[0m\u001b[0m\n\u001b[0m\u001b[1;32m    405\u001b[0m         \u001b[0mself\u001b[0m\u001b[0;34m.\u001b[0m\u001b[0mpickradius\u001b[0m \u001b[0;34m=\u001b[0m \u001b[0mpickradius\u001b[0m\u001b[0;34m\u001b[0m\u001b[0;34m\u001b[0m\u001b[0m\n\u001b[1;32m    406\u001b[0m         \u001b[0mself\u001b[0m\u001b[0;34m.\u001b[0m\u001b[0mind_offset\u001b[0m \u001b[0;34m=\u001b[0m \u001b[0;36m0\u001b[0m\u001b[0;34m\u001b[0m\u001b[0;34m\u001b[0m\u001b[0m\n",
      "\u001b[0;32m/opt/anaconda3/lib/python3.7/site-packages/matplotlib/artist.py\u001b[0m in \u001b[0;36mupdate\u001b[0;34m(self, props)\u001b[0m\n\u001b[1;32m    972\u001b[0m \u001b[0;34m\u001b[0m\u001b[0m\n\u001b[1;32m    973\u001b[0m         \u001b[0;32mwith\u001b[0m \u001b[0mcbook\u001b[0m\u001b[0;34m.\u001b[0m\u001b[0m_setattr_cm\u001b[0m\u001b[0;34m(\u001b[0m\u001b[0mself\u001b[0m\u001b[0;34m,\u001b[0m \u001b[0meventson\u001b[0m\u001b[0;34m=\u001b[0m\u001b[0;32mFalse\u001b[0m\u001b[0;34m)\u001b[0m\u001b[0;34m:\u001b[0m\u001b[0;34m\u001b[0m\u001b[0;34m\u001b[0m\u001b[0m\n\u001b[0;32m--> 974\u001b[0;31m             \u001b[0mret\u001b[0m \u001b[0;34m=\u001b[0m \u001b[0;34m[\u001b[0m\u001b[0m_update_property\u001b[0m\u001b[0;34m(\u001b[0m\u001b[0mself\u001b[0m\u001b[0;34m,\u001b[0m \u001b[0mk\u001b[0m\u001b[0;34m,\u001b[0m \u001b[0mv\u001b[0m\u001b[0;34m)\u001b[0m \u001b[0;32mfor\u001b[0m \u001b[0mk\u001b[0m\u001b[0;34m,\u001b[0m \u001b[0mv\u001b[0m \u001b[0;32min\u001b[0m \u001b[0mprops\u001b[0m\u001b[0;34m.\u001b[0m\u001b[0mitems\u001b[0m\u001b[0;34m(\u001b[0m\u001b[0;34m)\u001b[0m\u001b[0;34m]\u001b[0m\u001b[0;34m\u001b[0m\u001b[0;34m\u001b[0m\u001b[0m\n\u001b[0m\u001b[1;32m    975\u001b[0m \u001b[0;34m\u001b[0m\u001b[0m\n\u001b[1;32m    976\u001b[0m         \u001b[0;32mif\u001b[0m \u001b[0mlen\u001b[0m\u001b[0;34m(\u001b[0m\u001b[0mret\u001b[0m\u001b[0;34m)\u001b[0m\u001b[0;34m:\u001b[0m\u001b[0;34m\u001b[0m\u001b[0;34m\u001b[0m\u001b[0m\n",
      "\u001b[0;32m/opt/anaconda3/lib/python3.7/site-packages/matplotlib/artist.py\u001b[0m in \u001b[0;36m<listcomp>\u001b[0;34m(.0)\u001b[0m\n\u001b[1;32m    972\u001b[0m \u001b[0;34m\u001b[0m\u001b[0m\n\u001b[1;32m    973\u001b[0m         \u001b[0;32mwith\u001b[0m \u001b[0mcbook\u001b[0m\u001b[0;34m.\u001b[0m\u001b[0m_setattr_cm\u001b[0m\u001b[0;34m(\u001b[0m\u001b[0mself\u001b[0m\u001b[0;34m,\u001b[0m \u001b[0meventson\u001b[0m\u001b[0;34m=\u001b[0m\u001b[0;32mFalse\u001b[0m\u001b[0;34m)\u001b[0m\u001b[0;34m:\u001b[0m\u001b[0;34m\u001b[0m\u001b[0;34m\u001b[0m\u001b[0m\n\u001b[0;32m--> 974\u001b[0;31m             \u001b[0mret\u001b[0m \u001b[0;34m=\u001b[0m \u001b[0;34m[\u001b[0m\u001b[0m_update_property\u001b[0m\u001b[0;34m(\u001b[0m\u001b[0mself\u001b[0m\u001b[0;34m,\u001b[0m \u001b[0mk\u001b[0m\u001b[0;34m,\u001b[0m \u001b[0mv\u001b[0m\u001b[0;34m)\u001b[0m \u001b[0;32mfor\u001b[0m \u001b[0mk\u001b[0m\u001b[0;34m,\u001b[0m \u001b[0mv\u001b[0m \u001b[0;32min\u001b[0m \u001b[0mprops\u001b[0m\u001b[0;34m.\u001b[0m\u001b[0mitems\u001b[0m\u001b[0;34m(\u001b[0m\u001b[0;34m)\u001b[0m\u001b[0;34m]\u001b[0m\u001b[0;34m\u001b[0m\u001b[0;34m\u001b[0m\u001b[0m\n\u001b[0m\u001b[1;32m    975\u001b[0m \u001b[0;34m\u001b[0m\u001b[0m\n\u001b[1;32m    976\u001b[0m         \u001b[0;32mif\u001b[0m \u001b[0mlen\u001b[0m\u001b[0;34m(\u001b[0m\u001b[0mret\u001b[0m\u001b[0;34m)\u001b[0m\u001b[0;34m:\u001b[0m\u001b[0;34m\u001b[0m\u001b[0;34m\u001b[0m\u001b[0m\n",
      "\u001b[0;32m/opt/anaconda3/lib/python3.7/site-packages/matplotlib/artist.py\u001b[0m in \u001b[0;36m_update_property\u001b[0;34m(self, k, v)\u001b[0m\n\u001b[1;32m    968\u001b[0m                 \u001b[0;32mif\u001b[0m \u001b[0;32mnot\u001b[0m \u001b[0mcallable\u001b[0m\u001b[0;34m(\u001b[0m\u001b[0mfunc\u001b[0m\u001b[0;34m)\u001b[0m\u001b[0;34m:\u001b[0m\u001b[0;34m\u001b[0m\u001b[0;34m\u001b[0m\u001b[0m\n\u001b[1;32m    969\u001b[0m                     raise AttributeError('{!r} object has no property {!r}'\n\u001b[0;32m--> 970\u001b[0;31m                                          .format(type(self).__name__, k))\n\u001b[0m\u001b[1;32m    971\u001b[0m                 \u001b[0;32mreturn\u001b[0m \u001b[0mfunc\u001b[0m\u001b[0;34m(\u001b[0m\u001b[0mv\u001b[0m\u001b[0;34m)\u001b[0m\u001b[0;34m\u001b[0m\u001b[0;34m\u001b[0m\u001b[0m\n\u001b[1;32m    972\u001b[0m \u001b[0;34m\u001b[0m\u001b[0m\n",
      "\u001b[0;31mAttributeError\u001b[0m: 'Line2D' object has no property 'errorbar'"
     ]
    },
    {
     "data": {
      "image/png": "[encoded data removed]",
      "text/plain": [
       "<Figure size 1440x720 with 1 Axes>"
      ]
     },
     "metadata": {
      "needs_background": "light"
     },
     "output_type": "display_data"
    }
   ],
   "source": [
    "fig = plt.figure(figsize = (20,10))\n",
    "sns.lineplot(data = jobs_by_month_over_5_listings, x = 'Effective Month Name', y = 'Job_created', linewidth = 3, errorbar = None, marker = 'D',\n",
    "             markersize = 10, mec = 'k', mfc = '#00a0b0', ls = '--', color = '#00a0b0')\n",
    "plt.xlabel('Effective Month', fontsize = fs)\n",
    "plt.ylabel('Number of Jobs Created', fontsize = fs)\n",
    "plt.title(r'Number of Jobs Created vs. Effective Month for NTAs with over 5 listed businesses', fontsize = fs)\n",
    "plt.xticks(fontsize=fs)\n",
    "plt.yticks(fontsize=fs)\n",
    "plt.ylim(0, 70);"
   ]
  },
  {
   "cell_type": "code",
   "execution_count": null,
   "metadata": {},
   "outputs": [],
   "source": []
  }
 ],
 "metadata": {
  "kernelspec": {
   "display_name": "Python 3",
   "language": "python",
   "name": "python3"
  },
  "language_info": {
   "codemirror_mode": {
    "name": "ipython",
    "version": 3
   },
   "file_extension": ".py",
   "mimetype": "text/x-python",
   "name": "python",
   "nbconvert_exporter": "python",
   "pygments_lexer": "ipython3",
   "version": "3.7.6"
  }
 },
 "nbformat": 4,
 "nbformat_minor": 5
}
